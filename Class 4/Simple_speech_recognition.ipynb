{
  "cells": [
    {
      "cell_type": "markdown",
      "metadata": {
        "id": "view-in-github",
        "colab_type": "text"
      },
      "source": [
        "<a href=\"https://colab.research.google.com/github/s22752/GS2D-new/blob/main/Class%204/Simple_speech_recognition.ipynb\" target=\"_parent\"><img src=\"https://colab.research.google.com/assets/colab-badge.svg\" alt=\"Open In Colab\"/></a>"
      ]
    },
    {
      "cell_type": "markdown",
      "source": [
        "Code source: https://colab.research.google.com/github/tensorflow/docs/blob/master/site/en/tutorials/audio/simple_audio.ipynb#scrollTo=wTAg4vsn3oEb"
      ],
      "metadata": {
        "id": "B81jKekEobND"
      }
    },
    {
      "cell_type": "markdown",
      "metadata": {
        "id": "fluF3_oOgkWF"
      },
      "source": [
        "##### Copyright 2020 The TensorFlow Authors."
      ]
    },
    {
      "cell_type": "code",
      "execution_count": 1,
      "metadata": {
        "cellView": "form",
        "id": "AJs7HHFmg1M9"
      },
      "outputs": [],
      "source": [
        "#@title Licensed under the Apache License, Version 2.0 (the \"License\");\n",
        "# you may not use this file except in compliance with the License.\n",
        "# You may obtain a copy of the License at\n",
        "#\n",
        "# https://www.apache.org/licenses/LICENSE-2.0\n",
        "#\n",
        "# Unless required by applicable law or agreed to in writing, software\n",
        "# distributed under the License is distributed on an \"AS IS\" BASIS,\n",
        "# WITHOUT WARRANTIES OR CONDITIONS OF ANY KIND, either express or implied.\n",
        "# See the License for the specific language governing permissions and\n",
        "# limitations under the License."
      ]
    },
    {
      "cell_type": "markdown",
      "metadata": {
        "id": "jYysdyb-CaWM"
      },
      "source": [
        "# Simple audio recognition: Recognizing keywords"
      ]
    },
    {
      "cell_type": "markdown",
      "metadata": {
        "id": "CNbqmZy0gbyE"
      },
      "source": [
        "<table class=\"tfo-notebook-buttons\" align=\"left\">\n",
        "  <td>\n",
        "    <a target=\"_blank\" href=\"https://colab.research.google.com/drive/1Ga0X5AwxcpYIH55vgMxBawa9_tjW7KIL#scrollTo=CNbqmZy0gbyE\">\n",
        "    <img src=\"https://www.tensorflow.org/images/colab_logo_32px.png\" />\n",
        "    Run in Google Colab</a>\n",
        "  </td>\n",
        "</table>"
      ]
    },
    {
      "cell_type": "markdown",
      "metadata": {
        "id": "SPfDNFlb66XF"
      },
      "source": [
        "This tutorial demonstrates how to preprocess audio files in the WAV format and build and train a basic [automatic speech recognition](https://en.wikipedia.org/wiki/Speech_recognition) (ASR) model for recognizing ten different words. You will use a portion of the [Speech Commands dataset](https://www.tensorflow.org/datasets/catalog/speech_commands) ([Warden, 2018](https://arxiv.org/abs/1804.03209)), which contains short (one-second or less) audio clips of commands, such as \"down\", \"go\", \"left\", \"no\", \"right\", \"stop\", \"up\" and \"yes\"."
      ]
    },
    {
      "cell_type": "markdown",
      "metadata": {
        "id": "Go9C3uLL8Izc"
      },
      "source": [
        "## Setup\n",
        "\n",
        "Download and install necessary dependencies"
      ]
    },
    {
      "cell_type": "code",
      "source": [
        "!pip install tensorflow==2.10 tensorflow_datasets\n",
        "!apt install --allow-change-held-packages libcudnn8=8.1.0.77-1+cuda11.2"
      ],
      "metadata": {
        "id": "2tuvqtpIzKXK",
        "outputId": "e9ab4e08-59d2-40ee-8a1b-23d06168e4e2",
        "colab": {
          "base_uri": "https://localhost:8080/",
          "height": 1000
        }
      },
      "execution_count": 2,
      "outputs": [
        {
          "output_type": "stream",
          "name": "stdout",
          "text": [
            "Looking in indexes: https://pypi.org/simple, https://us-python.pkg.dev/colab-wheels/public/simple/\n",
            "Collecting tensorflow==2.10\n",
            "  Downloading tensorflow-2.10.0-cp39-cp39-manylinux_2_17_x86_64.manylinux2014_x86_64.whl (578.1 MB)\n",
            "\u001b[2K     \u001b[90m━━━━━━━━━━━━━━━━━━━━━━━━━━━━━━━━━━━━━━━\u001b[0m \u001b[32m578.1/578.1 MB\u001b[0m \u001b[31m2.3 MB/s\u001b[0m eta \u001b[36m0:00:00\u001b[0m\n",
            "\u001b[?25hRequirement already satisfied: tensorflow_datasets in /usr/local/lib/python3.9/dist-packages (4.8.3)\n",
            "Requirement already satisfied: numpy>=1.20 in /usr/local/lib/python3.9/dist-packages (from tensorflow==2.10) (1.22.4)\n",
            "Requirement already satisfied: termcolor>=1.1.0 in /usr/local/lib/python3.9/dist-packages (from tensorflow==2.10) (2.2.0)\n",
            "Collecting keras-preprocessing>=1.1.1\n",
            "  Downloading Keras_Preprocessing-1.1.2-py2.py3-none-any.whl (42 kB)\n",
            "\u001b[2K     \u001b[90m━━━━━━━━━━━━━━━━━━━━━━━━━━━━━━━━━━━━━━━━\u001b[0m \u001b[32m42.6/42.6 KB\u001b[0m \u001b[31m4.0 MB/s\u001b[0m eta \u001b[36m0:00:00\u001b[0m\n",
            "\u001b[?25hRequirement already satisfied: libclang>=13.0.0 in /usr/local/lib/python3.9/dist-packages (from tensorflow==2.10) (16.0.0)\n",
            "Requirement already satisfied: typing-extensions>=3.6.6 in /usr/local/lib/python3.9/dist-packages (from tensorflow==2.10) (4.5.0)\n",
            "Collecting tensorflow-estimator<2.11,>=2.10.0\n",
            "  Downloading tensorflow_estimator-2.10.0-py2.py3-none-any.whl (438 kB)\n",
            "\u001b[2K     \u001b[90m━━━━━━━━━━━━━━━━━━━━━━━━━━━━━━━━━━━━━━\u001b[0m \u001b[32m438.7/438.7 KB\u001b[0m \u001b[31m20.4 MB/s\u001b[0m eta \u001b[36m0:00:00\u001b[0m\n",
            "\u001b[?25hRequirement already satisfied: gast<=0.4.0,>=0.2.1 in /usr/local/lib/python3.9/dist-packages (from tensorflow==2.10) (0.4.0)\n",
            "Requirement already satisfied: h5py>=2.9.0 in /usr/local/lib/python3.9/dist-packages (from tensorflow==2.10) (3.8.0)\n",
            "Requirement already satisfied: setuptools in /usr/local/lib/python3.9/dist-packages (from tensorflow==2.10) (67.6.1)\n",
            "Collecting protobuf<3.20,>=3.9.2\n",
            "  Downloading protobuf-3.19.6-cp39-cp39-manylinux_2_17_x86_64.manylinux2014_x86_64.whl (1.1 MB)\n",
            "\u001b[2K     \u001b[90m━━━━━━━━━━━━━━━━━━━━━━━━━━━━━━━━━━━━━━━━\u001b[0m \u001b[32m1.1/1.1 MB\u001b[0m \u001b[31m30.6 MB/s\u001b[0m eta \u001b[36m0:00:00\u001b[0m\n",
            "\u001b[?25hRequirement already satisfied: astunparse>=1.6.0 in /usr/local/lib/python3.9/dist-packages (from tensorflow==2.10) (1.6.3)\n",
            "Requirement already satisfied: six>=1.12.0 in /usr/local/lib/python3.9/dist-packages (from tensorflow==2.10) (1.16.0)\n",
            "Requirement already satisfied: flatbuffers>=2.0 in /usr/local/lib/python3.9/dist-packages (from tensorflow==2.10) (23.3.3)\n",
            "Collecting tensorboard<2.11,>=2.10\n",
            "  Downloading tensorboard-2.10.1-py3-none-any.whl (5.9 MB)\n",
            "\u001b[2K     \u001b[90m━━━━━━━━━━━━━━━━━━━━━━━━━━━━━━━━━━━━━━━━\u001b[0m \u001b[32m5.9/5.9 MB\u001b[0m \u001b[31m53.7 MB/s\u001b[0m eta \u001b[36m0:00:00\u001b[0m\n",
            "\u001b[?25hRequirement already satisfied: absl-py>=1.0.0 in /usr/local/lib/python3.9/dist-packages (from tensorflow==2.10) (1.4.0)\n",
            "Requirement already satisfied: packaging in /usr/local/lib/python3.9/dist-packages (from tensorflow==2.10) (23.0)\n",
            "Requirement already satisfied: wrapt>=1.11.0 in /usr/local/lib/python3.9/dist-packages (from tensorflow==2.10) (1.14.1)\n",
            "Collecting keras<2.11,>=2.10.0\n",
            "  Downloading keras-2.10.0-py2.py3-none-any.whl (1.7 MB)\n",
            "\u001b[2K     \u001b[90m━━━━━━━━━━━━━━━━━━━━━━━━━━━━━━━━━━━━━━━━\u001b[0m \u001b[32m1.7/1.7 MB\u001b[0m \u001b[31m25.4 MB/s\u001b[0m eta \u001b[36m0:00:00\u001b[0m\n",
            "\u001b[?25hRequirement already satisfied: tensorflow-io-gcs-filesystem>=0.23.1 in /usr/local/lib/python3.9/dist-packages (from tensorflow==2.10) (0.32.0)\n",
            "Requirement already satisfied: opt-einsum>=2.3.2 in /usr/local/lib/python3.9/dist-packages (from tensorflow==2.10) (3.3.0)\n",
            "Requirement already satisfied: google-pasta>=0.1.1 in /usr/local/lib/python3.9/dist-packages (from tensorflow==2.10) (0.2.0)\n",
            "Requirement already satisfied: grpcio<2.0,>=1.24.3 in /usr/local/lib/python3.9/dist-packages (from tensorflow==2.10) (1.53.0)\n",
            "Requirement already satisfied: tqdm in /usr/local/lib/python3.9/dist-packages (from tensorflow_datasets) (4.65.0)\n",
            "Requirement already satisfied: toml in /usr/local/lib/python3.9/dist-packages (from tensorflow_datasets) (0.10.2)\n",
            "Requirement already satisfied: promise in /usr/local/lib/python3.9/dist-packages (from tensorflow_datasets) (2.3)\n",
            "Requirement already satisfied: click in /usr/local/lib/python3.9/dist-packages (from tensorflow_datasets) (8.1.3)\n",
            "Requirement already satisfied: requests>=2.19.0 in /usr/local/lib/python3.9/dist-packages (from tensorflow_datasets) (2.27.1)\n",
            "Requirement already satisfied: psutil in /usr/local/lib/python3.9/dist-packages (from tensorflow_datasets) (5.9.4)\n",
            "Requirement already satisfied: dm-tree in /usr/local/lib/python3.9/dist-packages (from tensorflow_datasets) (0.1.8)\n",
            "Requirement already satisfied: etils[enp,epath]>=0.9.0 in /usr/local/lib/python3.9/dist-packages (from tensorflow_datasets) (1.1.1)\n",
            "Requirement already satisfied: tensorflow-metadata in /usr/local/lib/python3.9/dist-packages (from tensorflow_datasets) (1.12.0)\n",
            "Requirement already satisfied: wheel<1.0,>=0.23.0 in /usr/local/lib/python3.9/dist-packages (from astunparse>=1.6.0->tensorflow==2.10) (0.40.0)\n",
            "Requirement already satisfied: zipp in /usr/local/lib/python3.9/dist-packages (from etils[enp,epath]>=0.9.0->tensorflow_datasets) (3.15.0)\n",
            "Requirement already satisfied: importlib_resources in /usr/local/lib/python3.9/dist-packages (from etils[enp,epath]>=0.9.0->tensorflow_datasets) (5.12.0)\n",
            "Requirement already satisfied: urllib3<1.27,>=1.21.1 in /usr/local/lib/python3.9/dist-packages (from requests>=2.19.0->tensorflow_datasets) (1.26.15)\n",
            "Requirement already satisfied: charset-normalizer~=2.0.0 in /usr/local/lib/python3.9/dist-packages (from requests>=2.19.0->tensorflow_datasets) (2.0.12)\n",
            "Requirement already satisfied: idna<4,>=2.5 in /usr/local/lib/python3.9/dist-packages (from requests>=2.19.0->tensorflow_datasets) (3.4)\n",
            "Requirement already satisfied: certifi>=2017.4.17 in /usr/local/lib/python3.9/dist-packages (from requests>=2.19.0->tensorflow_datasets) (2022.12.7)\n",
            "Requirement already satisfied: google-auth<3,>=1.6.3 in /usr/local/lib/python3.9/dist-packages (from tensorboard<2.11,>=2.10->tensorflow==2.10) (2.17.1)\n",
            "Collecting tensorboard-data-server<0.7.0,>=0.6.0\n",
            "  Downloading tensorboard_data_server-0.6.1-py3-none-manylinux2010_x86_64.whl (4.9 MB)\n",
            "\u001b[2K     \u001b[90m━━━━━━━━━━━━━━━━━━━━━━━━━━━━━━━━━━━━━━━━\u001b[0m \u001b[32m4.9/4.9 MB\u001b[0m \u001b[31m44.5 MB/s\u001b[0m eta \u001b[36m0:00:00\u001b[0m\n",
            "\u001b[?25hRequirement already satisfied: tensorboard-plugin-wit>=1.6.0 in /usr/local/lib/python3.9/dist-packages (from tensorboard<2.11,>=2.10->tensorflow==2.10) (1.8.1)\n",
            "Requirement already satisfied: werkzeug>=1.0.1 in /usr/local/lib/python3.9/dist-packages (from tensorboard<2.11,>=2.10->tensorflow==2.10) (2.2.3)\n",
            "Requirement already satisfied: google-auth-oauthlib<0.5,>=0.4.1 in /usr/local/lib/python3.9/dist-packages (from tensorboard<2.11,>=2.10->tensorflow==2.10) (0.4.6)\n",
            "Requirement already satisfied: markdown>=2.6.8 in /usr/local/lib/python3.9/dist-packages (from tensorboard<2.11,>=2.10->tensorflow==2.10) (3.4.3)\n",
            "Requirement already satisfied: googleapis-common-protos<2,>=1.52.0 in /usr/local/lib/python3.9/dist-packages (from tensorflow-metadata->tensorflow_datasets) (1.59.0)\n",
            "Requirement already satisfied: rsa<5,>=3.1.4 in /usr/local/lib/python3.9/dist-packages (from google-auth<3,>=1.6.3->tensorboard<2.11,>=2.10->tensorflow==2.10) (4.9)\n",
            "Requirement already satisfied: cachetools<6.0,>=2.0.0 in /usr/local/lib/python3.9/dist-packages (from google-auth<3,>=1.6.3->tensorboard<2.11,>=2.10->tensorflow==2.10) (5.3.0)\n",
            "Requirement already satisfied: pyasn1-modules>=0.2.1 in /usr/local/lib/python3.9/dist-packages (from google-auth<3,>=1.6.3->tensorboard<2.11,>=2.10->tensorflow==2.10) (0.2.8)\n",
            "Requirement already satisfied: requests-oauthlib>=0.7.0 in /usr/local/lib/python3.9/dist-packages (from google-auth-oauthlib<0.5,>=0.4.1->tensorboard<2.11,>=2.10->tensorflow==2.10) (1.3.1)\n",
            "Requirement already satisfied: importlib-metadata>=4.4 in /usr/local/lib/python3.9/dist-packages (from markdown>=2.6.8->tensorboard<2.11,>=2.10->tensorflow==2.10) (6.1.0)\n",
            "Requirement already satisfied: MarkupSafe>=2.1.1 in /usr/local/lib/python3.9/dist-packages (from werkzeug>=1.0.1->tensorboard<2.11,>=2.10->tensorflow==2.10) (2.1.2)\n",
            "Requirement already satisfied: pyasn1<0.5.0,>=0.4.6 in /usr/local/lib/python3.9/dist-packages (from pyasn1-modules>=0.2.1->google-auth<3,>=1.6.3->tensorboard<2.11,>=2.10->tensorflow==2.10) (0.4.8)\n",
            "Requirement already satisfied: oauthlib>=3.0.0 in /usr/local/lib/python3.9/dist-packages (from requests-oauthlib>=0.7.0->google-auth-oauthlib<0.5,>=0.4.1->tensorboard<2.11,>=2.10->tensorflow==2.10) (3.2.2)\n",
            "Installing collected packages: keras, tensorflow-estimator, tensorboard-data-server, protobuf, keras-preprocessing, tensorboard, tensorflow\n",
            "  Attempting uninstall: keras\n",
            "    Found existing installation: keras 2.12.0\n",
            "    Uninstalling keras-2.12.0:\n",
            "      Successfully uninstalled keras-2.12.0\n",
            "  Attempting uninstall: tensorflow-estimator\n",
            "    Found existing installation: tensorflow-estimator 2.12.0\n",
            "    Uninstalling tensorflow-estimator-2.12.0:\n",
            "      Successfully uninstalled tensorflow-estimator-2.12.0\n",
            "  Attempting uninstall: tensorboard-data-server\n",
            "    Found existing installation: tensorboard-data-server 0.7.0\n",
            "    Uninstalling tensorboard-data-server-0.7.0:\n",
            "      Successfully uninstalled tensorboard-data-server-0.7.0\n",
            "  Attempting uninstall: protobuf\n",
            "    Found existing installation: protobuf 3.20.3\n",
            "    Uninstalling protobuf-3.20.3:\n",
            "      Successfully uninstalled protobuf-3.20.3\n",
            "  Attempting uninstall: tensorboard\n",
            "    Found existing installation: tensorboard 2.12.0\n",
            "    Uninstalling tensorboard-2.12.0:\n",
            "      Successfully uninstalled tensorboard-2.12.0\n",
            "  Attempting uninstall: tensorflow\n",
            "    Found existing installation: tensorflow 2.12.0\n",
            "    Uninstalling tensorflow-2.12.0:\n",
            "      Successfully uninstalled tensorflow-2.12.0\n",
            "Successfully installed keras-2.10.0 keras-preprocessing-1.1.2 protobuf-3.19.6 tensorboard-2.10.1 tensorboard-data-server-0.6.1 tensorflow-2.10.0 tensorflow-estimator-2.10.0\n"
          ]
        },
        {
          "output_type": "display_data",
          "data": {
            "application/vnd.colab-display-data+json": {
              "pip_warning": {
                "packages": [
                  "google"
                ]
              }
            }
          },
          "metadata": {}
        },
        {
          "output_type": "stream",
          "name": "stdout",
          "text": [
            "Reading package lists... Done\n",
            "Building dependency tree       \n",
            "Reading state information... Done\n",
            "The following package was automatically installed and is no longer required:\n",
            "  libnvidia-common-525\n",
            "Use 'apt autoremove' to remove it.\n",
            "The following packages will be REMOVED:\n",
            "  libcudnn8-dev\n",
            "The following held packages will be changed:\n",
            "  libcudnn8\n",
            "The following packages will be DOWNGRADED:\n",
            "  libcudnn8\n",
            "0 upgraded, 0 newly installed, 1 downgraded, 1 to remove and 21 not upgraded.\n",
            "Need to get 430 MB of archives.\n",
            "After this operation, 1,153 MB disk space will be freed.\n",
            "Get:1 https://developer.download.nvidia.com/compute/cuda/repos/ubuntu2004/x86_64  libcudnn8 8.1.0.77-1+cuda11.2 [430 MB]\n",
            "Fetched 430 MB in 5s (90.2 MB/s)\n",
            "(Reading database ... 128293 files and directories currently installed.)\n",
            "Removing libcudnn8-dev (8.7.0.84-1+cuda11.8) ...\n",
            "update-alternatives: removing manually selected alternative - switching libcudnn to auto mode\n",
            "\u001b[1mdpkg:\u001b[0m \u001b[1;33mwarning:\u001b[0m downgrading libcudnn8 from 8.7.0.84-1+cuda11.8 to 8.1.0.77-1+cuda11.2\n",
            "(Reading database ... 128260 files and directories currently installed.)\n",
            "Preparing to unpack .../libcudnn8_8.1.0.77-1+cuda11.2_amd64.deb ...\n",
            "Unpacking libcudnn8 (8.1.0.77-1+cuda11.2) over (8.7.0.84-1+cuda11.8) ...\n",
            "Setting up libcudnn8 (8.1.0.77-1+cuda11.2) ...\n"
          ]
        }
      ]
    },
    {
      "cell_type": "code",
      "execution_count": 3,
      "metadata": {
        "id": "dzLKpmZICaWN"
      },
      "outputs": [],
      "source": [
        "import os\n",
        "import pathlib\n",
        "\n",
        "import matplotlib.pyplot as plt\n",
        "import numpy as np\n",
        "import seaborn as sns\n",
        "import tensorflow as tf\n",
        "\n",
        "from tensorflow.keras import layers\n",
        "from tensorflow.keras import models\n",
        "from IPython import display\n",
        "\n",
        "# Set the seed value for experiment reproducibility.\n",
        "seed = 42\n",
        "tf.random.set_seed(seed)\n",
        "np.random.seed(seed)"
      ]
    },
    {
      "cell_type": "markdown",
      "metadata": {
        "id": "yR0EdgrLCaWR"
      },
      "source": [
        "## Import the mini Speech Commands dataset\n",
        "\n",
        "To save time with data loading, you will be working with a smaller version of the Speech Commands dataset.\n",
        "Download and extract the `mini_speech_commands.zip` file containing the smaller Speech Commands datasets with `tf.keras.utils.get_file`:"
      ]
    },
    {
      "cell_type": "code",
      "execution_count": 4,
      "metadata": {
        "id": "2-rayb7-3Y0I",
        "outputId": "147db557-8ff7-4a63-a4ae-122e3287129b",
        "colab": {
          "base_uri": "https://localhost:8080/"
        }
      },
      "outputs": [
        {
          "output_type": "stream",
          "name": "stdout",
          "text": [
            "Downloading data from http://storage.googleapis.com/download.tensorflow.org/data/mini_speech_commands.zip\n",
            "182082353/182082353 [==============================] - 5s 0us/step\n"
          ]
        }
      ],
      "source": [
        "DATASET_PATH = 'data/mini_speech_commands'\n",
        "\n",
        "data_dir = pathlib.Path(DATASET_PATH)\n",
        "if not data_dir.exists():\n",
        "  tf.keras.utils.get_file(\n",
        "      'mini_speech_commands.zip',\n",
        "      origin=\"http://storage.googleapis.com/download.tensorflow.org/data/mini_speech_commands.zip\",\n",
        "      extract=True,\n",
        "      cache_dir='.', cache_subdir='data')"
      ]
    },
    {
      "cell_type": "markdown",
      "metadata": {
        "id": "BgvFq3uYiS5G"
      },
      "source": [
        "The dataset's audio clips are stored in eight folders corresponding to each speech command: `no`, `yes`, `down`, `go`, `left`, `up`, `right`, and `stop`:"
      ]
    },
    {
      "cell_type": "code",
      "execution_count": 5,
      "metadata": {
        "id": "70IBxSKxA1N9",
        "outputId": "9bb7fa2d-68be-495c-9900-5c1951f9af7f",
        "colab": {
          "base_uri": "https://localhost:8080/"
        }
      },
      "outputs": [
        {
          "output_type": "stream",
          "name": "stdout",
          "text": [
            "Commands: ['stop' 'up' 'right' 'left' 'no' 'down' 'go' 'yes']\n"
          ]
        }
      ],
      "source": [
        "commands = np.array(tf.io.gfile.listdir(str(data_dir)))\n",
        "commands = commands[(commands != 'README.md') & (commands != '.DS_Store')]\n",
        "print('Commands:', commands)"
      ]
    },
    {
      "cell_type": "markdown",
      "metadata": {
        "id": "TZ7GJjDvHqtt"
      },
      "source": [
        "Now we split the data into train and test datasets.\n",
        "\n",
        "The audio clips are 1 second or less at 16kHz."
      ]
    },
    {
      "cell_type": "code",
      "execution_count": 6,
      "metadata": {
        "id": "mFM4c3aMC8Qv",
        "outputId": "e01f87d1-c340-447e-956f-449bbd10b4a6",
        "colab": {
          "base_uri": "https://localhost:8080/"
        }
      },
      "outputs": [
        {
          "output_type": "stream",
          "name": "stdout",
          "text": [
            "Found 8000 files belonging to 8 classes.\n",
            "Using 6400 files for training.\n",
            "Using 1600 files for validation.\n",
            "\n",
            "label names: ['down' 'go' 'left' 'no' 'right' 'stop' 'up' 'yes']\n"
          ]
        }
      ],
      "source": [
        "train_ds, val_ds = tf.keras.utils.audio_dataset_from_directory(\n",
        "    directory=data_dir,\n",
        "    batch_size=64,\n",
        "    validation_split=0.2,\n",
        "    seed=0,\n",
        "    output_sequence_length=16000,\n",
        "    subset='both')\n",
        "\n",
        "label_names = np.array(train_ds.class_names)\n",
        "print()\n",
        "print(\"label names:\", label_names)"
      ]
    },
    {
      "cell_type": "code",
      "execution_count": 7,
      "metadata": {
        "id": "Xl-tnniUIBlM"
      },
      "outputs": [],
      "source": [
        "def squeeze(audio, labels):\n",
        "  audio = tf.squeeze(audio, axis=-1)\n",
        "  return audio, labels\n",
        "\n",
        "train_ds = train_ds.map(squeeze, tf.data.AUTOTUNE)\n",
        "val_ds = val_ds.map(squeeze, tf.data.AUTOTUNE)"
      ]
    },
    {
      "cell_type": "markdown",
      "metadata": {
        "id": "DtsCSWZN5ILv"
      },
      "source": [
        "We have to split our calidation dataset into val and test set."
      ]
    },
    {
      "cell_type": "code",
      "execution_count": 8,
      "metadata": {
        "id": "u5UEGsqM5Gss"
      },
      "outputs": [],
      "source": [
        "test_ds = val_ds.shard(num_shards=2, index=0)\n",
        "val_ds = val_ds.shard(num_shards=2, index=1)"
      ]
    },
    {
      "cell_type": "code",
      "execution_count": 9,
      "metadata": {
        "id": "xIeoJcwJH5h9",
        "outputId": "65b57fd4-328b-4b7c-af13-7e5bacf49d2c",
        "colab": {
          "base_uri": "https://localhost:8080/"
        }
      },
      "outputs": [
        {
          "output_type": "stream",
          "name": "stdout",
          "text": [
            "(64, 16000)\n",
            "(64,)\n"
          ]
        }
      ],
      "source": [
        "for example_audio, example_labels in train_ds.take(1):  \n",
        "  print(example_audio.shape)\n",
        "  print(example_labels.shape)"
      ]
    },
    {
      "cell_type": "markdown",
      "metadata": {
        "id": "voxGEwvuh2L7"
      },
      "source": [
        "Let's plot a few audio waveforms:"
      ]
    },
    {
      "cell_type": "markdown",
      "metadata": {
        "id": "EWXPphxm0B4m"
      },
      "source": [
        "## Convert waveforms to spectrograms\n",
        "\n",
        "The waveforms in the dataset are represented in the time domain. Next, you'll transform the waveforms from the time-domain signals into the time-frequency-domain signals by computing the [short-time Fourier transform (STFT)](https://en.wikipedia.org/wiki/Short-time_Fourier_transform) to convert the waveforms to as [spectrograms](https://en.wikipedia.org/wiki/Spectrogram), which show frequency changes over time and can be represented as 2D images."
      ]
    },
    {
      "cell_type": "code",
      "execution_count": 10,
      "metadata": {
        "id": "_4CK75DHz_OR"
      },
      "outputs": [],
      "source": [
        "def get_spectrogram(waveform):\n",
        "  # Convert the waveform to a spectrogram via a STFT.\n",
        "  spectrogram = tf.signal.stft(\n",
        "      waveform, frame_length=255, frame_step=128)\n",
        "  # Obtain the magnitude of the STFT.\n",
        "  spectrogram = tf.abs(spectrogram)\n",
        "  # Add a `channels` dimension, so that the spectrogram can be used\n",
        "  # as image-like input data with convolution layers (which expect\n",
        "  # shape (`batch_size`, `height`, `width`, `channels`).\n",
        "  spectrogram = spectrogram[..., tf.newaxis]\n",
        "  return spectrogram"
      ]
    },
    {
      "cell_type": "markdown",
      "metadata": {
        "id": "xnSuqyxJ1isF"
      },
      "source": [
        "Now, define a function for displaying a spectrogram:"
      ]
    },
    {
      "cell_type": "code",
      "execution_count": 11,
      "metadata": {
        "id": "e62jzb36-Jog"
      },
      "outputs": [],
      "source": [
        "#def plot_spectrogram(spectrogram, ax):\n",
        "#  if len(spectrogram.shape) > 2:\n",
        "#    assert len(spectrogram.shape) == 3\n",
        "#    spectrogram = np.squeeze(spectrogram, axis=-1)\n",
        "#  # Convert the frequencies to log scale and transpose, so that the time is\n",
        "#  # represented on the x-axis (columns).\n",
        "#  # Add an epsilon to avoid taking a log of zero.\n",
        "#  log_spec = np.log(spectrogram.T + np.finfo(float).eps)\n",
        "#  height = log_spec.shape[0]\n",
        "#  width = log_spec.shape[1]\n",
        "#  X = np.linspace(0, np.size(spectrogram), num=width, dtype=int)\n",
        "#  Y = range(height)\n",
        "#  ax.pcolormesh(X, Y, log_spec)"
      ]
    },
    {
      "cell_type": "markdown",
      "metadata": {
        "id": "GyYXjW07jCHA"
      },
      "source": [
        "Now, create spectrogramn datasets from the audio datasets:"
      ]
    },
    {
      "cell_type": "code",
      "execution_count": 12,
      "metadata": {
        "id": "mAD0LpkgqtQo"
      },
      "outputs": [],
      "source": [
        "def make_spec_ds(ds):\n",
        "  return ds.map(\n",
        "      map_func=lambda audio,label: (get_spectrogram(audio), label),\n",
        "      num_parallel_calls=tf.data.AUTOTUNE)"
      ]
    },
    {
      "cell_type": "code",
      "execution_count": 13,
      "metadata": {
        "id": "yEVb_oK0oBLQ"
      },
      "outputs": [],
      "source": [
        "train_spectrogram_ds = make_spec_ds(train_ds)\n",
        "val_spectrogram_ds = make_spec_ds(val_ds)\n",
        "test_spectrogram_ds = make_spec_ds(test_ds)"
      ]
    },
    {
      "cell_type": "code",
      "source": [
        "for example_spectrograms, example_spect_labels in train_spectrogram_ds.take(1):\n",
        "  break"
      ],
      "metadata": {
        "id": "Pp8S55hQuGgH"
      },
      "execution_count": 14,
      "outputs": []
    },
    {
      "cell_type": "markdown",
      "metadata": {
        "id": "z5KdY8IF8rkt"
      },
      "source": [
        "## Build and train the model"
      ]
    },
    {
      "cell_type": "code",
      "execution_count": 15,
      "metadata": {
        "id": "fdZ6M-F5_QzY"
      },
      "outputs": [],
      "source": [
        "train_spectrogram_ds = train_spectrogram_ds.cache().shuffle(10000).prefetch(tf.data.AUTOTUNE)\n",
        "val_spectrogram_ds = val_spectrogram_ds.cache().prefetch(tf.data.AUTOTUNE)\n",
        "test_spectrogram_ds = test_spectrogram_ds.cache().prefetch(tf.data.AUTOTUNE)"
      ]
    },
    {
      "cell_type": "markdown",
      "metadata": {
        "id": "rwHkKCQQb5oW"
      },
      "source": [
        "For the model, you'll use a simple convolutional neural network (CNN), since you have transformed the audio files into spectrogram images.\n",
        "\n",
        "Your `tf.keras.Sequential` model will use the following Keras preprocessing layers:\n",
        "\n",
        "- `tf.keras.layers.Resizing`: to downsample the input to enable the model to train faster.\n",
        "- `tf.keras.layers.Normalization`: to normalize each pixel in the image based on its mean and standard deviation."
      ]
    },
    {
      "cell_type": "code",
      "execution_count": 16,
      "metadata": {
        "id": "ALYz7PFCHblP",
        "outputId": "0a22b020-52f8-49b1-9028-a188a4133abe",
        "colab": {
          "base_uri": "https://localhost:8080/"
        }
      },
      "outputs": [
        {
          "output_type": "stream",
          "name": "stdout",
          "text": [
            "Input shape: (124, 129, 1)\n",
            "Model: \"sequential\"\n",
            "_________________________________________________________________\n",
            " Layer (type)                Output Shape              Param #   \n",
            "=================================================================\n",
            " resizing (Resizing)         (None, 32, 32, 1)         0         \n",
            "                                                                 \n",
            " normalization (Normalizatio  (None, 32, 32, 1)        3         \n",
            " n)                                                              \n",
            "                                                                 \n",
            " conv2d (Conv2D)             (None, 30, 30, 32)        320       \n",
            "                                                                 \n",
            " conv2d_1 (Conv2D)           (None, 28, 28, 64)        18496     \n",
            "                                                                 \n",
            " max_pooling2d (MaxPooling2D  (None, 14, 14, 64)       0         \n",
            " )                                                               \n",
            "                                                                 \n",
            " dropout (Dropout)           (None, 14, 14, 64)        0         \n",
            "                                                                 \n",
            " flatten (Flatten)           (None, 12544)             0         \n",
            "                                                                 \n",
            " dense (Dense)               (None, 128)               1605760   \n",
            "                                                                 \n",
            " dropout_1 (Dropout)         (None, 128)               0         \n",
            "                                                                 \n",
            " dense_1 (Dense)             (None, 8)                 1032      \n",
            "                                                                 \n",
            "=================================================================\n",
            "Total params: 1,625,611\n",
            "Trainable params: 1,625,608\n",
            "Non-trainable params: 3\n",
            "_________________________________________________________________\n"
          ]
        }
      ],
      "source": [
        "input_shape = example_spectrograms.shape[1:]\n",
        "print('Input shape:', input_shape)\n",
        "num_labels = len(label_names)\n",
        "\n",
        "# Instantiate the `tf.keras.layers.Normalization` layer.\n",
        "norm_layer = layers.Normalization()\n",
        "# Fit the state of the layer to the spectrograms\n",
        "# with `Normalization.adapt`.\n",
        "norm_layer.adapt(data=train_spectrogram_ds.map(map_func=lambda spec, label: spec))\n",
        "\n",
        "model = models.Sequential([\n",
        "    tf.keras.layers.Input(shape=input_shape),\n",
        "    # Downsample the input.\n",
        "    tf.keras.layers.Resizing(32, 32),\n",
        "    # Normalize.\n",
        "    norm_layer,\n",
        "    tf.keras.layers.Conv2D(32, 3, activation='relu'),\n",
        "    tf.keras.layers.Conv2D(64, 3, activation='relu'),\n",
        "    tf.keras.layers.MaxPooling2D(),\n",
        "    tf.keras.layers.Dropout(0.25),\n",
        "    tf.keras.layers.Flatten(),\n",
        "    tf.keras.layers.Dense(128, activation='relu'),\n",
        "    tf.keras.layers.Dropout(0.5),\n",
        "    tf.keras.layers.Dense(num_labels),\n",
        "])\n",
        "\n",
        "model.summary()"
      ]
    },
    {
      "cell_type": "markdown",
      "metadata": {
        "id": "de52e5afa2f3"
      },
      "source": [
        "Configure the Keras model with the Adam optimizer and the cross-entropy loss:"
      ]
    },
    {
      "cell_type": "code",
      "execution_count": 17,
      "metadata": {
        "id": "wFjj7-EmsTD-"
      },
      "outputs": [],
      "source": [
        "model.compile(\n",
        "    optimizer=tf.keras.optimizers.Adam(),\n",
        "    loss=tf.keras.losses.SparseCategoricalCrossentropy(from_logits=True),\n",
        "    metrics=['accuracy'],\n",
        ")"
      ]
    },
    {
      "cell_type": "markdown",
      "metadata": {
        "id": "f42b9e3a4705"
      },
      "source": [
        "Train the model over 10 epochs for demonstration purposes:"
      ]
    },
    {
      "cell_type": "code",
      "execution_count": 18,
      "metadata": {
        "id": "ttioPJVMcGtq",
        "outputId": "d32c397b-2bad-4bc2-ad13-9a431f61e79d",
        "colab": {
          "base_uri": "https://localhost:8080/"
        }
      },
      "outputs": [
        {
          "output_type": "stream",
          "name": "stdout",
          "text": [
            "Epoch 1/12\n",
            "100/100 [==============================] - 8s 21ms/step - loss: 1.7386 - accuracy: 0.3800 - val_loss: 1.3034 - val_accuracy: 0.6328\n",
            "Epoch 2/12\n",
            "100/100 [==============================] - 1s 7ms/step - loss: 1.1600 - accuracy: 0.5877 - val_loss: 0.9014 - val_accuracy: 0.7305\n",
            "Epoch 3/12\n",
            "100/100 [==============================] - 1s 7ms/step - loss: 0.8651 - accuracy: 0.6956 - val_loss: 0.7138 - val_accuracy: 0.7839\n",
            "Epoch 4/12\n",
            "100/100 [==============================] - 1s 7ms/step - loss: 0.7165 - accuracy: 0.7437 - val_loss: 0.6398 - val_accuracy: 0.8229\n",
            "Epoch 5/12\n",
            "100/100 [==============================] - 1s 7ms/step - loss: 0.5967 - accuracy: 0.7870 - val_loss: 0.6074 - val_accuracy: 0.8112\n",
            "Epoch 6/12\n",
            "100/100 [==============================] - 1s 8ms/step - loss: 0.5298 - accuracy: 0.8084 - val_loss: 0.5561 - val_accuracy: 0.8346\n",
            "Epoch 7/12\n",
            "100/100 [==============================] - 1s 8ms/step - loss: 0.4620 - accuracy: 0.8353 - val_loss: 0.5054 - val_accuracy: 0.8398\n",
            "Epoch 8/12\n",
            "100/100 [==============================] - 1s 8ms/step - loss: 0.4146 - accuracy: 0.8556 - val_loss: 0.4875 - val_accuracy: 0.8490\n",
            "Epoch 9/12\n",
            "100/100 [==============================] - 1s 8ms/step - loss: 0.3950 - accuracy: 0.8612 - val_loss: 0.4384 - val_accuracy: 0.8581\n",
            "Epoch 10/12\n",
            "100/100 [==============================] - 1s 7ms/step - loss: 0.3464 - accuracy: 0.8811 - val_loss: 0.4572 - val_accuracy: 0.8555\n",
            "Epoch 11/12\n",
            "100/100 [==============================] - 1s 7ms/step - loss: 0.3216 - accuracy: 0.8877 - val_loss: 0.4764 - val_accuracy: 0.8385\n",
            "Epoch 11: early stopping\n"
          ]
        }
      ],
      "source": [
        "EPOCHS = 12\n",
        "history = model.fit(\n",
        "    train_spectrogram_ds,\n",
        "    validation_data=val_spectrogram_ds,\n",
        "    epochs=EPOCHS,\n",
        "    callbacks=tf.keras.callbacks.EarlyStopping(verbose=1, patience=2),\n",
        ")"
      ]
    },
    {
      "cell_type": "markdown",
      "metadata": {
        "id": "gjpCDeQ4mUfS"
      },
      "source": [
        "Let's plot the training and validation loss curves to check how your model has improved during training:"
      ]
    },
    {
      "cell_type": "code",
      "execution_count": 19,
      "metadata": {
        "id": "nzhipg3Gu2AY",
        "outputId": "da829acd-91ba-4337-ab4b-58537cd8facc",
        "colab": {
          "base_uri": "https://localhost:8080/",
          "height": 564
        }
      },
      "outputs": [
        {
          "output_type": "execute_result",
          "data": {
            "text/plain": [
              "Text(0, 0.5, 'Accuracy [%]')"
            ]
          },
          "metadata": {},
          "execution_count": 19
        },
        {
          "output_type": "display_data",
          "data": {
            "text/plain": [
              "<Figure size 1600x600 with 2 Axes>"
            ],
            "image/png": "[encoded data removed]"
          },
          "metadata": {}
        }
      ],
      "source": [
        "metrics = history.history\n",
        "plt.figure(figsize=(16,6))\n",
        "plt.subplot(1,2,1)\n",
        "plt.plot(history.epoch, metrics['loss'], metrics['val_loss'])\n",
        "plt.legend(['loss', 'val_loss'])\n",
        "plt.ylim([0, max(plt.ylim())])\n",
        "plt.xlabel('Epoch')\n",
        "plt.ylabel('Loss [CrossEntropy]')\n",
        "\n",
        "plt.subplot(1,2,2)\n",
        "plt.plot(history.epoch, 100*np.array(metrics['accuracy']), 100*np.array(metrics['val_accuracy']))\n",
        "plt.legend(['accuracy', 'val_accuracy'])\n",
        "plt.ylim([0, 100])\n",
        "plt.xlabel('Epoch')\n",
        "plt.ylabel('Accuracy [%]')"
      ]
    },
    {
      "cell_type": "markdown",
      "metadata": {
        "id": "5ZTt3kO3mfm4"
      },
      "source": [
        "## Evaluate the model performance\n",
        "\n",
        "Run the model on the test set and check the model's performance:"
      ]
    },
    {
      "cell_type": "code",
      "execution_count": 20,
      "metadata": {
        "id": "FapuRT_SsWGQ",
        "outputId": "ed236cbc-9bee-41ef-a030-4b4d826720c7",
        "colab": {
          "base_uri": "https://localhost:8080/"
        }
      },
      "outputs": [
        {
          "output_type": "stream",
          "name": "stdout",
          "text": [
            "13/13 [==============================] - 1s 93ms/step - loss: 0.4860 - accuracy: 0.8281\n"
          ]
        },
        {
          "output_type": "execute_result",
          "data": {
            "text/plain": [
              "{'loss': 0.48598071932792664, 'accuracy': 0.828125}"
            ]
          },
          "metadata": {},
          "execution_count": 20
        }
      ],
      "source": [
        "model.evaluate(test_spectrogram_ds, return_dict=True)"
      ]
    },
    {
      "cell_type": "markdown",
      "metadata": {
        "id": "en9Znt1NOabH"
      },
      "source": [
        "### Display a confusion matrix\n",
        "\n",
        "Use a [confusion matrix](https://developers.google.com/machine-learning/glossary#confusion-matrix) to check how well the model did classifying each of the recordings in the test set:\n"
      ]
    },
    {
      "cell_type": "code",
      "execution_count": 21,
      "metadata": {
        "id": "5Y6vmWWQuuT1",
        "outputId": "fceacf5d-07b0-46f4-8e45-80dbeeecf943",
        "colab": {
          "base_uri": "https://localhost:8080/"
        }
      },
      "outputs": [
        {
          "output_type": "stream",
          "name": "stdout",
          "text": [
            "13/13 [==============================] - 0s 3ms/step\n"
          ]
        }
      ],
      "source": [
        "y_pred = model.predict(test_spectrogram_ds)"
      ]
    },
    {
      "cell_type": "code",
      "execution_count": 22,
      "metadata": {
        "id": "d6F0il82u7lW"
      },
      "outputs": [],
      "source": [
        "y_pred = tf.argmax(y_pred, axis=1)"
      ]
    },
    {
      "cell_type": "code",
      "execution_count": 24,
      "metadata": {
        "id": "vHSNoBYLvX81"
      },
      "outputs": [],
      "source": [
        "y_true = tf.concat(list(test_spectrogram_ds.map(lambda s,lab: lab)), axis=0)"
      ]
    },
    {
      "cell_type": "code",
      "execution_count": 25,
      "metadata": {
        "id": "LvoSAOiXU3lL",
        "outputId": "d5e716aa-5751-4505-ed6a-7ab6a34f5221",
        "colab": {
          "base_uri": "https://localhost:8080/",
          "height": 696
        }
      },
      "outputs": [
        {
          "output_type": "display_data",
          "data": {
            "text/plain": [
              "<Figure size 1000x800 with 2 Axes>"
            ],
            "image/png": "[encoded data removed]"
          },
          "metadata": {}
        }
      ],
      "source": [
        "confusion_mtx = tf.math.confusion_matrix(y_true, y_pred)\n",
        "plt.figure(figsize=(10, 8))\n",
        "sns.heatmap(confusion_mtx,\n",
        "            xticklabels=label_names,\n",
        "            yticklabels=label_names,\n",
        "            annot=True, fmt='g')\n",
        "plt.xlabel('Prediction')\n",
        "plt.ylabel('Label')\n",
        "plt.show()"
      ]
    },
    {
      "cell_type": "markdown",
      "metadata": {
        "id": "mQGi_mzPcLvl"
      },
      "source": [
        "## Check trained model for sample audio\n",
        "\n",
        "Finally, verify the model's prediction output using an input audio file. How well does your model perform?"
      ]
    },
    {
      "cell_type": "code",
      "source": [
        "#provide link to your sample file\n",
        "x = data_dir/'right/4f2ab70c_nohash_0.wav'\n",
        "#x = data_dir/'right/012c8314_nohash_1.wav'"
      ],
      "metadata": {
        "id": "x4MQiAAlw1kX"
      },
      "execution_count": 28,
      "outputs": []
    },
    {
      "cell_type": "code",
      "execution_count": 29,
      "metadata": {
        "id": "zRxauKMdhofU",
        "outputId": "13558c88-13d3-46e5-a827-edc714543115",
        "colab": {
          "base_uri": "https://localhost:8080/",
          "height": 510
        }
      },
      "outputs": [
        {
          "output_type": "display_data",
          "data": {
            "text/plain": [
              "<Figure size 640x480 with 1 Axes>"
            ],
            "image/png": "[encoded data removed]"
          },
          "metadata": {}
        },
        {
          "output_type": "display_data",
          "data": {
            "text/plain": [
              "<IPython.lib.display.Audio object>"
            ],
            "text/html": [
              "\n",
              "                <audio  controls=\"controls\" >\n",
              "                    <source src=\"data:audio/wav;base64,UklGRiR9AABXQVZFZm10IBAAAAABAAEAgD4AAAB9AAACABAAZGF0YQB9AAAAAOb/5v/m/+b/5v/M/7L/sv/M/+b/5v+y/+b/5v/M/8z/zP/m/+b/sv/m/+b/AAAAAOb/AAAAAAAAAADm/wAA5v8AAOb/AADm/wAAzP/M/+b/sv/M/5j/sv+y/5j/zP9+/7L/mP+y/5j/fv/M/7L/zP/M/+b/5v/m/+b/5v/m/+b/5v/m/wAAAAAAAAAAAAAaAAAAGgAaAAAAAAAAABoAAAAaABoAGgA0ABoAGgAaADQAAAAaADQAAABOADQANABOADQAaABoAIIAaABoAIIAggC2ALYAtgCcAIIAggBOABoAGgA0ADQAGgAaAAAAGgAAAAAAAAAAAAAAAAAAAAAAGgAaAAAAAAAAAAAAAAAAAAAAAAAAAAAAAAAAAAAAAAAAAAAAGgA0AE4ANAA0ADQAGgA0AAAAAAAaABoAGgAaAAAAAAAAAOb/5v8AAMz/mP/m/+b/zP+y/5j/mP+y/7L/mP+Y/7L/fv9+/5j/fv9+/37/mP+Y/37/mP+Y/5j/sv+Y/7L/mP+y/7L/mP+y/7L/sv+y/8z/5v/M/8z/sv/m/+b/zP/M/8z/sv+y/8z/sv/m/8z/zP/m/8z/sv/m/8z/zP/m/8z/zP/m/8z/5v/m/8z/AADm/wAAAAAAAAAAAAAAAAAAAAAAAAAAAAAAAAAAAAAAAAAAAAAaAAAAGgAaAAAAGgAaAAAAAAAAAAAAGgAAAAAAAAAAAAAAAAAAABoAGgAAAAAAGgAAAAAAAAAAABoAAAAaAAAANAAaAAAAGgAAABoAAAAaAAAAAAAaAAAAAAAAAAAA5v8AAAAAzP/m/+b/zP/m/+b/5v+Y/7L/5v/M/wAAzP/m/+b/AADm/7L/GgAAAAAA5v/m/xoA5v8aAAAA5v/m/+b/AADm/zQAAAAAAAAAGgDm/+b/AACy/+b/GgA0AMz/zP/M/8z/nAAaABoAzP+Y/xoAAABOALL/sv8aAMz/TgCY/+b/mP/m/7YAsv9oAOb/GgCcAIIAtgCy/4IAaACcAAUBGgBoAAAAaACCADQATgDm/wAATgA0ABoAzP80ABoAGgAaAOb/sv+y/zQAzP+Y/8z/mP9+/8z/5v9k/2T/sv9+/5j/5v+Y/2T/mP80AOb/zP80AMz/AAA0ABoAzP/m/2gAzP/m/zQAsv8aABoAGgDm/+b/aADM/xoAGgDM/wAA5v8aAOb/zP/M/5j/5v/M/8z/sv/m/+b/sv+y/5j/ZP9+/8z/zP+y/8z/sv/M/wAAzP+Y/8z/GgBOAAAA5v/m/+b/GgAaAAAA5v8AADQAGgAaABoA5v8aABoAGgAAAAAA5v8AABoANAA0AAAANAAAAAAAAADM/+b/5v8AAAAA5v8aAAAAAADm/wAAGgAAADQAAAAAABoAGgAaABoATgAaAE4ATgAaAAAAAAAAAAAAGgAAAAAAAAAAAAAAAAAAAMz/5v/M/+b/5v+Y/8z/zP/m/+b/5v+y/7L/AADM/wAAzP/M/+b/sv8AAMz/AADM/+b/5v+y/wAAsv8aAOb/5v/m/7L/AACy/8z/mP+Y/7L/mP+y/37/sv+y/7L/sv+Y/5j/ZP+Y/7L/mP/M/8z/zP/M/5j/zP+Y/7L/zP+Y/8z/sv/M/8z/5v8AAOb/5v/m/8z/5v/m/wAAAADm/wAA5v/m/wAA5v/m/wAAAAAaAOb/GgAaABoANAA0ABoAAAA0ABoANABOADQAaABoAE4AAAA0AGgATgBOAAAANAAaABoANAAAABoAGgA0ADQAAAAaABoANAA0ABoAAAAAAAAAAAAAAAAAGgAAAAAAAAAAABoAAAAAAAAAAAAAAAAAAAAAAAAAAAAAAAAAAAAAABoAGgAAABoAAAAaAAAAAAAAAAAAGgAAAAAAAAAAAOb/5v8AAAAAAAAAABoAAAAAABoAAAA0AAAAGgAaABoAaAAaAE4ANAA0AGgANABOABoATgBOAE4AaABOADQAGgBoAE4ATgA0ABoANAAaABoA5v8aABoAAAAAAOb/sv/M/+b/zP+y/7L/zP/M/+b/zP+Y/7L/mP+y/8z/mP+y/7L/mP+y/5j/mP+Y/7L/zP+y/7L/sv+y/8z/sv+y/7L/zP/M/7L/zP+y/7L/sv+y/8z/5v8AAAAA5v/m/wAAAAAAAAAAAAAaAAAATgA0ABoANAAaADQAGgBOADQAGgAaABoANAAAABoAAAAaAAAAAAAAAAAAAADM/8z/5v/M/8z/sv+y/7L/mP9+/2T/ZP9k/2T/ZP9k/2T/fv9+/2T/ZP9K/37/sv+Y/7L/mP+y/5j/mP+Y/37/mP9+/5j/ZP9k/37/ZP+Y/2T/fv9k/2T/fv9k/37/mP+y/7L/zP/m/8z/AAAAAAAA5v8aADQAGgA0ABoATgBOAE4ATgBOAGgAaACCAJwAnACCAJwAaABoAGgAaACCAGgAggBoAE4AggBOAE4ATgA0ADQAGgAAAAAAAAAAAAAAAAAAAAAA5v/m/+b/zP+y/7L/sv+y/7L/fv+y/7L/sv+Y/2T/fv9k/37/ZP9+/5j/mP+Y/7L/sv9+/8z/mP+y/+b/sv/M/8z/AAAAAAAAAAAAABoAGgAAABoAGgBOADQATgBoAE4AaABoAIIAggCcAJwAggCcAJwAnACcAGgAnACcAJwAggCCAIIAnACCAIIAnACCAGgANAAaABoAAAAAAAAA5v8AAOb/5v/M/8z/sv9+/5j/ZP9K/y//L/9K/0r/Sv9K/y//L/8v/y//Sv9k/0r/fv9+/5j/mP9+/5j/fv+Y/5j/sv+y/7L/5v/m/wAAzP8AAAAAAAAAABoAGgAaADQAGgA0ADQAaABoAIIAaABOAIIAaACCAIIAggCcAJwAnAC2ALYAnAC2AJwAnADRAJwAnACcALYAggBoAIIAaABoAGgAaABoAE4AGgAaABoAAAAaAAAAAAAAAOb/5v+Y/5j/ZP9K/y//L/9k/xX/L/8V//v++/77/i//ZP9K/2T/mP9K/0r/ZP9k/2T/fv+Y/5j/mP/M/8z/zP/m/+b/5v+y/7L/sv/M/7L/5v/m/8z/AADM/wAAAAAAAAAAAAAAAAAAGgAAAAAAAAAaABoANAA0AE4AaABOAE4ATgBOAE4ATgBOADQANAA0ADQANAAaAE4ANAA0AE4ANABOABoAGgAAAAAAAAAAAAAAAAAAAAAAAAAAAAAAAAAAAAAA5v/m/8z/zP+y/7L/zP+y/5j/sv+Y/5j/mP9+/37/ZP9+/37/ZP9+/2T/ZP9k/2T/ZP9k/0r/Sv9K/2T/mP+Y/5j/zP+y/8z/zP/m/wAAAAAAAAAANAAaABoANAA0AE4ANABOAIIAaABOAGgATgA0ADQATgBOAE4AggBoAGgAaABoAIIANABOADQATgBoAE4AaABOAGgANAA0ABoAGgAaAAAAGgA0AAAAAAAaABoAAADm/8z/zP/m/8z/zP+y/5j/mP+Y/5j/mP9k/5j/mP+Y/7L/mP+Y/5j/mP+y/7L/sv+y/7L/zP/m/wAAAAAAAOb/AAAAAOb/5v/m/wAA5v/m/wAAAAAAAAAAGgAAAAAANAAAAAAAGgAAADQAGgA0AE4ATgBoAGgATgBoAGgAaABoAGgATgBOAE4ATgBoAE4AaACCAGgAaABOAE4ATgA0ABoAAAAaAAAAAAAAAAAAAAAAABoAAAAAAAAAAAAAAAAAAADm/+b/sv+y/7L/zP+y/37/sv9+/37/ZP8v/0r/L/8v/y//L/8V//v++/4V//v++/77/i//L/9K/2T/ZP9+/2T/ZP+Y/5j/sv+y/8z/5v8AAAAAAAAAAAAAGgAAAAAANABOAE4ATgBOAE4AggBOADQAaAA0AIIATgA0AE4ATgBoADQAaAAaADQATgA0AGgAGgBoADQATgBOABoAaAA0AGgAaABoAIIAaABoADQANAA0ADQAAAAAADQAGgAaAAAAAAAAAAAA5v/m/8z/zP/M/5j/sv+Y/7L/zP+y/5j/fv+y/37/mP+Y/5j/sv9+/5j/ZP9+/37/Sv+Y/37/fv9+/2T/zP+y/37/zP9+/8z/AADm/wAAZP8aAAAAAAA0AH7/aADm/04AggAAAOsAAAC2ADQA5v9OAH7/nADm/xoANAAaALYANACcAAAAGgAAALL/AACy/zQAGgAaAAAAzP80AAAAGgDm/8z/5v/m/zQAGgA0ADQATgA0ADQAGgAaADQAAAAaABoAAAA0ABoAAAAAAAAAAADm/wAAAAAAABoANAA0AAAAAADM/7L/zP+Y/7L/mP+y/+b/zP+y/7L/mP+Y/37/fv9K/0r/ZP9k/5j/sv9+/7L/mP+Y/7L/sv/M/7L/zP+y/8z/5v/m/8z/zP/m/+b/AAAAAAAA5v/m/8z/5v8AAMz/zP+Y/+b/AADm/+b/5v8AAOb/5v/m/+b/5v8AAOb/5v8aAAAANAAAAAAAGgAAADQANABOADQAaABOAE4ATgAAADQAGgAAABoAAAA0ADQATgA0AE4ANAAaADQAAAAAAAAA5v8AAMz/AADm/+b/zP+Y/7L/sv+y/7L/sv9+/7L/sv+y/5j/fv+y/5j/sv+Y/5j/mP9+/7L/fv/M/7L/sv/M/7L/5v/M/+b/AAAAAAAAAAAaAAAAAAAAABoAAAAaABoATgBoAGgAaAA0AE4ATgA0ADQAGgBOABoAaABoAE4AaAA0AGgANABOAGgATgCcAIIAnABoAGgAaABOAIIATgCCAIIAggCCAIIAggCCAIIATgBOABoAGgAaAAAA5v/m/wAA5v/m/8z/zP+y/8z/zP+Y/8z/sv+Y/37/fv+y/8z/sv+y/+b/zP/M/8z/zP/M/37/sv+Y/37/fv+Y/8z/fv+y/8z/zP/M/5j/zP/M/8z/5v/M/+b/AADm/8z/5v/m/+b/AAAAAAAA5v8AAAAAAAAAAAAAAAAaADQAGgAAAAAAAAAaAAAAAAAAADQANAAaABoATgA0ADQANABOAGgAGgBOAE4ATgBoADQANAAAADQAGgAAAAAAAAAAAAAAAADM/8z/sv/M/7L/mP+Y/5j/zP9+/2T/fv9+/37/ZP9k/y//Sv9k/0r/ZP8v/0r/Sv9K/0r/ZP9K/y//Sv9k/5j/mP9+/5j/sv/m/7L/mP/M/5j/zP/m/8z/5v/M/+b/5v/m/+b/5v8AAAAAAAAAAAAAAAAAAAAAAAAAAAAAAADm/wAAAAAAAAAAAAAaABoATgBoAE4ANABOAE4AaABoAGgAggC2ALYAtgC2AJwAtgC2AIIAaACCAJwAnACcAIIAggCCAE4ATgBOADQATgA0AE4ATgBOAE4ANABOABoAAAAAAAAAAAAAAAAAAAAAAAAAAADm/8z/zP+y/8z/zP+y/5j/sv+y/7L/sv9+/7L/fv+Y/7L/mP/M/8z/5v/M/7L/sv/M/+b/zP+y/5j/sv+y/7L/fv9+/5j/fv9+/0r/mP+Y/37/sv9+/37/fv9+/37/fv+Y/5j/sv+y/7L/5v/m/wAAAAAAAAAAGgA0AE4ATgCCALYAnAC2ALYAtgDRAOsAHwEfAQUBHwEFAQUBHwEFAR8BBQEFAQUB0QCcALYAnABoAGgAaABoABoAGgAaAAAAAADM/8z/sv+y/5j/mP9+/37/fv9+/37/fv9+/2T/fv9k/37/mP9+/37/sv+Y/5j/mP+Y/7L/mP+y/5j/zP/M/7L/zP/M/8z/sv/M/8z/zP/M/8z/zP+y/8z/zP+y/7L/zP+y/7L/sv+y/7L/mP+y/7L/zP/m/wAAAAAAAAAAAAAAABoAAAAAAAAAAAAAABoAGgAAABoAAAAaAAAAGgBOADQATgBoAE4ATgBOAE4ATgA0AE4ATgA0ABoATgA0ADQATgAaAAAAAAAAABoAAAAAAAAAAAAAAOb/zP/m/+b/zP/m/8z/zP/M/8z/fv9+/37/Sv9+/2T/ZP9+/2T/ZP9k/0r/ZP9K/37/Sv8v/y//L/9K/0r/Sv9K/2T/Sv9K/2T/Sv9k/2T/fv+Y/5j/sv/M/+b/AAAaAAAANABOAGgAnAC2ANEABQFTATkBbQFtAW0BhwGHAaIBogGiAYcBvAHWAbwBvAG8AbwBogGiAaIBUwFTAVMBUwFTATkBHwEFAR8B6wC2ALYAnACcAIIATgAaAOb/5v+y/0r/Sv8V//v+4f55/l7+RP4q/vb9EP4Q/vb9wv2o/aj9jf1z/Vn9Wf0//T/9P/0//Vn9Wf0//T/9P/0L/SX9C/0L/T/9P/2N/aj9c/3c/Y393P32/cL9Kv4Q/ir+Kv5e/sf+k/4V/y//fv8AAOb/TgCcAOsAbQGiAVgC9QKSA0kEAAUFBqIGWQfBB9wHEAjcB9wHwQfBB0QIKghECF4IKgjcBz8HvAbRBRoFlwTGA14D9QLBAsECWAI+AtYBbQHrAIIATgAAAOb/AAAaAGgAtgC2ALYAggAaAMz/ZP/h/nn+EP6N/XP9Jf3x/Lz8VPzr+0/7zPov+pL59vhz+HP4P/hZ+I34p/gQ+RD5KvlE+Sr5KvlE+Xj5rPn7+WP65voa+537Bfwg/FT8Ovxu/G78bvyi/Lz8C/0L/T/93P0q/l7+ef7h/vv+Ff9k/5j/5v8aAGgABQFtAfABWALbAioDXgN4AyoDwQLBAlgCPgKNAnMCpwLbAqcCjQJzAiQCvAFtAR8BBQHRAGgAGgBOADQAGgBOADQATgA0AOb/zP+Y/2T/mP+y/8z/5v8AABoANAA0AAAAGgAAAOb/mP8v/xX/4f7H/sf+rf7H/q3+rf55/vb9jf0L/bz8bvwg/CD8Ovw6/CD8OvxU/FT8VPw6/CD8VPxu/Ij8ovyi/Nb8P/1Z/Y39EP4q/vb9RP4q/sL9wv0//Qv9C/28/Lz8C/28/Ij81vyi/Ij8vPyI/Ij8P/2N/Sr+fv/RAMEC5gQlB0kJIAtzDEQNxw3hDfsNZA4BD2kPVBAlEagR9hHCEfEQ0g9KDj8MaQpECDkGzAR4A40C8AGHAQUB0QA0AGT/k/4//Tr8nfs0+zT70fu8/Nz9x/6y/xoAaABoABoAAACy/5j/ZP9k/2T/mP/m/8z/sv9K/5P+wv28/IP7Y/rH+V75EPkQ+UT5kvn7+S/6SfpJ+kn6Y/pJ+mP6zPo0+537Ovzx/Pb9x/5k/+b/TgBoALYAOQG8AXMC2wIPAw8D2wIKAlMBBQE0AOb/TgAaADQAnAAAALL/mP9e/tz9qP0L/fH8C/3x/Nb8Wf1Z/Vn9qP1Z/XP9c/0//Qv9C/0L/aL88fzW/Ij8ovxU/CD8Bfxp+xr7T/uY+mP6Y/r7+cf5Ffpj+kn6ffqY+rL6svrm+ub6APtP+537IPyI/D/93P0q/pP+L/9k/+b/TgCCAOsAHwEfAaIB1gGiAT4CcwJzAg8DXgNEA5IDkgMqA0QDRAMqA5IDrAOSA/sDfQRJBLEEGgUABWgF6wXRBesFOQYFBlQG1gbwBj8HpwfcB9wHEAinB3MHcwc/BwoH1gaIBlQGHwbrBYMFgwU0BcwE5gTmBH0ESQT7A5IDXgP1Ao0CJALWAaIBHwE5AQUBtgDRAJwATgAAALL/+/55/tz98fyI/CD86/u3+4P7Gvuy+n36Sfrh+fv5rPl4+Xj5XvlE+UT59vj2+Cr52/in+Pb49vgq+V75ePnh+fv5Ffp9+rL65vrm+hr7nfud+7f76/vR+9H7nfs0+8z6mPov+uH54flE+RD59vgk+Nb3U/do9rH1+vRE9I3zXvQ09ir5EP6sA34JnQ/NE9cV3RZVFSsSVBCyDvsN7A9+E5QX9xukH90gdSBqHp4ZNRTmDmMJaAXbArYAAAAAABoANABoAE4ASv+T/vH8ffqN+Gj2ePSN8/XzY/WI9zT7rf6iAUkEnQXRBU4FkgOHAQAAx/5E/pP+fv8aAAUB1gGiATkBTgDH/qL8zPqn+Gj2+vSN87zy1vIk8w/0ffUF99b3jfin+Nb3Offm9RX1xvQv9U72JPhj+lT8rf4aAGgA6wAfAesAHwG8AacCxgPmBNEFiAaiBusFGgWxBEQD2wJEAz4CWAJEA1gC8AEKAjkBGgAaAAAAx/77/uH+wv3C/Y39C/0l/Y39jf2o/UT+RP4q/nn+EP4Q/ir+9v1E/l7+ef77/hX/Sv9K/7L/AADm/xoAGgAAABoA5v9+/0r/Sv9k/37/zP8AAAAAAABOADQAGgAAAOb/zP/m/wAA5v9OANEA6wAfAQUBBQEFAdEAggAAAAAA5v9+/7L/mP/M/wAAGgCcALYA0QAfAesA0QC2AIIAggC2AOsAHwFTAbwBCgIkAj4CJAIKAqIBvAEKAocBogHWAaIB1gEKAvAB8AEKAgoC8AHwAfAB1gHWAfAB1gHwAaIBCgI+AocBogGiAVMBHwFTAR8B0QAfAQUBaACcANEATgAaAE4AGgAAABoAAADM/wAAzP/M/wAA5v8AAAAAAAAaADQATgAaABoAGgAAAOb/fv9K/2T/mP9k/5j/zP9+/2T/4f55/vb9wv2o/SX9jf2o/aj9RP5E/ir+RP4q/hD+wv0Q/sL9wv0q/ir+Kv6t/hX/Ff9+/5j/ZP9K/2T/+/77/hX/ef7h/hX/Sv9+/7L/5v+y/wAAzP9k/2T/Ff8V/+H++/77/uH+mP/m/+b/AAAaAE4AGgAaADQAAAAaAGgANABoAB8BHwEFAbwB1gFtAbwB1gE5AQUBUwHRAIIAHwGcAAAATgBOAAAAAAAaAAAAAAAAAAAAzP/m/wAAzP+Y/+b/AACy/wAAGgAAAAAAGgA0AOb/TgA0AAAATgA0ABoATgBoAGgAnACcAGgAnAC2AIIAaACCAE4AaAC2ABoANABOAAAAAAA0AE4AAAAaAE4AAAAAABoAAADm/wAAzP9+/8z/mP9k/37/mP9k/8z/AACy/+b/AACy/2T/fv8V/63++/4V//v+ZP/M/wAAAAA0ADQAAAAAAJj/Ff/7/pP+RP5e/nn+Xv77/mT/L/+Y/7L/Ff/7/hX/Kv7C/V7+wv2o/UT+k/55/uH+Sv/h/i//+/5E/ir+9v1z/aj99v3c/Xn+Sv8v/2T/NADM/37/AADM/0r/5v+y//v+sv8aAOb/aAA5AdEAHwHwAR8BnABtAYIAsv+CAOb/Sv80ADQA5v9oAAUBaAC2AIcBggCcAG0BggBOAOsAggAAAB8BbQG2APABWAKHAfABjQIKArwBpwIkAocBpwI+AtYBcwJzArwBvAEkAjkBBQFTAdEAtgAFAdEATgA0ABoAsv8v/+H+x/5e/q3+mP/m/4IAvAGnAvUCLwTmBEkEfQSxBBUEKgNeA14DKgP7A5cEAAW3BesFtwVOBUkEKgPwAbYAsv8V/17+9v1E/l7+Xv6T/q3+rf6T/ir+wv3C/cL9Xv5K/xoAUwEPA30E5gSDBQUGsQReA6wDPgIaAG0BbQF+/04A6wDh/nn+L/86/GP6APs/+Jf1zPX18+vxJPPW8k7xCvP18/DyD/SS9Nby1vJz84Lx5fBT8jTxNPE+843zD/QA9tH2Bfdz+BD5p/he+ZL52/he+RX6x/lJ+tH7g/vR+z/98fyi/D/9Jf06/Ij8vPyD+9H7IPxP+xr75vqs+db3NPb18zTxrO+s733w9fOY+tYBnQrnE74adSAcIzEiVR/yGnQWkxLcEc0T9xZ/HTwkpSm6Lb8ugCz9Joof9xYVDrwGHwE//Wn7APtp+yD8C/2o/Y39P/2i/Ov7zPpe+Vn40faX9RX1FfUa9ln46/tOAMwESQncDMwONQ/HDQYLcwesA7YA4f72/UT+Sv+2ANYBPgIkApwA4f5u/JL5BfcV9Vjz0PHl8Ejw4O/g70jwTvHw8sb06/Yq+eb60ftu/Lf7mPoV+hD5p/jh+W78Ff9eA5IIjQwlERsU7BRpFJMSOhBUC8EHBQYKArwBkgNEA2gFEAj7CK0IXggKB3MCNAA//db3aPaS9DnyPvNe9BX1U/fH+cz6nfvW/Lf7Ffr2+Br29fNT8uXwSPCx8NDxJPN99QX38Pf2+I34iPeC9vr0WPOc8WjxNPHl8Lzy9fMV9bz3ePlj+uv7ovy8/Av91vwF/NH70fvm+k/76/uD+7z83P2o/V7+k/7C/fH8g/sv+o346/bM9Un1xvQp9JL0XvQP9LH1iPfh+a3+sQQ6C3kSahkHHzEiUCNlInAfYBwBGXkXsxi+GnAfpCQiKeksoC0yLLQn3SAHGvYR0QofBlgCggDm/zQATgAAALL/EP7W/IP7x/lE+XP4CviI9+v2TvbM9bH15vW89xX6P/1tAQAF9gcACmkKxwhuBl4DGgCo/W78Bfwl/fv+TgDWAY0C1gGcAET+nfv2+E72xvTB83Pzp/On89vz9fNE9Mb0sfVZ+DT7Xv7BAogGYwk6C1QLBgt4CDQF+wNTAQAAUwEkAqwDtwU/B1kHiAa3BXMCfv/W/Kf4gvZE9NDxnPHL8GPw//Bo8W3y1vKN8/Xzp/Mk8+vx5fCS7z7uCu677T7ud+8a8dbyXvSx9YL2nfbm9az09fNT8v/wNPFj8LHwH/I+86z0TvYK+Cr5+/my+ub65vqY+hX6L/ov+i/6APtp++v71vwl/aL86/t9+j/4l/WH8pfwD++M7rHw4PR9+rwBTwp5ElAZOx8cIwckhSOuIQcfFx33G+IcpB+FI4UoUS3+MCMz7jITMBIrviSZHfEVNQ/MCU4FCgJOAEr/ef6o/SX9iPyd+zT7svqS+XP4bvca9hX1RPT186z0zPVz+Ov7fv8PA6IGYwm3CusK5glzB7EECgIAAF7+jf1z/cL9Xv7H/vv+Xv5z/QX8L/qN+J32FfWn8znygvHL8GPwl/A08bbxCvP69IL2JPiS+Un6mPrM+mP6mPoF/Kj9TgCxBMcIwgyjEMcSShPCEYMPWQwQCOYEcwLrABoATgA5AYcBPgIKAusAzP/C/YP7rPkF9/r0jfMF8v/wl/DL8DTxOfKn8+D0aPYF9zn3BfeX9Sn01vI08UjwFPBj8ILx8PJ49AD2Ofe899b3bved9k72Y/Ws9Kz0kvT69AD2Ofc/+Mf5T/tu/ML9ef7H/i//4f7c/SX9VPwa+y/6KvnW9wX3l/X18wrz0PGC8Tnyp/PR9hr7tgA/B8cNGxQbGRcdvh9BIFsgcB+EHtMe7R7dIO0jYCZwKZUrgCzJKyIpJyXyHyEa5xMVDn4JzARtAX7/Wf3r++b6kvmN+PD3H/c09n314PQp9Fjzh/K88rzyCvN49J32Kvk6/GT/PgLmBKIGcwdzB1QG5gREA20BNACY/xX/+/4V/y//L/+t/tz9vPxp+/v5wfhu9zT2L/V49Kfz1vKh8qHy8PLB8/r0aPa89yr55vpU/Pb95v/wAZcEjQedCl8NuA+OEcIRCxHSD5MNOgvHCAoHVAZOBTQFnQVOBQAFxgONArYAKv7R+3j5U/eX9Sn0WPOH8uvxBfJT8qHyCvMP9Mb0rPTg9JL0p/MK8znyNPHl8Mvw//DQ8bzyjfN49En1Y/V99Un1xvR49ET0ePTg9GP1gvaI91n4kvlj+hr70ftU/Av9jf32/Xn+x/77/uH++/7H/vb9Wf1u/Mz6XvlT9y/1CvOX8KzvD+/G74fyNPbR+6IBXgiDD9IUhBl6HEsdsx1GHAwboxpVGvcbnh7jId4lPCnJK88sySsiKXAk0x6ZGPYRcww/Bw8DTgD2/W78NPsv+sf59vg/+Nb3Ofe39ub1FfV49PXzwfMP9Pr0aPaN+J37+/5YAoMFEAjMCZ0KaQpjCfYHHwZ9BA8D8AFTATkBOQE5ATkBtgA0AJj/RP4l/bf7Sfr2+Ij3gvax9RX1rPSS9Pr0zPWd9m73jfj7+YP7P/3M/woCsQTHCFQLkw0GEIMPNQ9EDQAKXggABdsCjQLwAfUCRAN9BE4FFQR4Ax8Brf4F/CT4TvaN807xTvHG7+DvSPDg7zTxgvHr8dbyCvMK86HyU/Jo8UjwrO/b7ozu9e4P70jwgvHr8cHz9fMp9OD0D/Re9Cn09fOs9Kz0L/VO9h/3JPh4+cz6VPwq/ub/HwGNAqwDYwQaBRoFzARjBMYD9QKNAtYBUwGcAOH+9v3R+xD5bvdJ9fXzRPQv9Vn4VPwfAacHXw1kExYYdBuEHnAf8h+kHzsf8h8MIMkhIiQsJggpkCqvK8krpSn9JugimR0WGCsS3AzcBw8DzP8L/Zj6EPnw91P3nfZo9hr2ffWs9MHz8PIF8k7x//A08QXyjfPM9Vn4T/te/pwAKgOXBMwEzASSAyQCnADh/tz9ovyD+xr7mPp9+kn64fle+Y34Cvjr9sz1xvTB8wrzU/KC8RrxGvGx8JzxOfIk8331Ofd9+pP+UwEfBmkKWQydDzoQTw9KDp0K4QiIBuAD4AOSA8wEHwbWBi8JXghzB24G9QKcAKL8XvlT98Hz8PIf8hrxOfIf8nPzffWX9Tn3Cvgk+D/4H/ed9i/1wfPW8tDxBfJT8vDyrPSX9Z32ovdT9273t/Z99S/1wfNY843zc/N49H31H/en+BX6BfxZ/eH+5v9OALYA0QAFAQUBBQEFAVMB1gGNAkQDxgNjBGME4AMPA6IBmP8//Zj6Cvix9Y3zofKH8grz4PRu9xr7fv+sA+EIrQ3CEUAWGxl0G7Mdnh6+H1sg9yB/IoUjWyX9JlEo8ynZKVYpzie+JGAhlBzIF+ISkw0vCU4F1gHM/6j9IPw0++H5Kvk/+B/3aPYv9V709fON843z2/PG9AD2iPd4+TT7Wf0v/4IACgLbAg8DKgNzAm0BNACt/o39bvxP+336Ffrh+cf5x/lE+fb4Wfhu9072+vTb87zy0PH/8H3wY/CX8NDxWPMa9sf5P/0kAm4G5gkVDgEPaQ+YDogLSQmdBcEC6wAAAJwAOQH1AswENAVoBbEEpwI0AAv9+/nr9tvzH/J98BTwLvCX8DnyjfP69Lf2Cvj2+BD5jfgk+IL2xvSN8wXyaPE08evxJPNe9AD2H/fW9wr4ovcF9wD2xvTb8wrzofK88grzKfRj9ev2p/hJ+jr8jf37/ub/NACCAGgAGgDM/37/ZP9+/37/GgBOAIIAHwE0ABoASv9Z/SD8kvm89wD2KfSN823yvPLB8/r0Wfi3+wAATgUaCiAQOxU2GTEdih96IX8imiI2I2sj7SNbJa8mUSjzKfgqeyt2KmsoQSWPIN0bWhbXENcLJQfGA+sA+/5z/VT8t/vm+kn6kvkQ+af4vPe896L3iPfw9z/49vj7+Rr7bvwq/gAAOQHbAhUEsQQ0BZcEeAPWAbL/jf2D+5L5c/hu9wX3Ofed9tH2t/Ya9n31RPRY823yNPGx8BTw4O998Brxc/N99Vn4Wf0aAEkEeAh+CfELVAsvCRAISQQ+Aub/EP5e/ln9Ff8aAE4A8AHrAE4ASv86/Jj6iPfg9I3zy/CX8C7wd+808ZzxPvNj9TT2Cvj2+JL5rPmn+Fn46/bM9X31RPTg9LH1APZu9z/49viS+UT5ePmn+Lz3U/ca9gD2l/Vj9Wj20fYk+Pv5T/uN/S//tgBzAioDSQTmBMwENAWXBJcElwRJBMwEAAWdBesFnQWdBeYERAPWAeb/c/0a+8H4t/bg9I3zofKH8vDyePRo9ir58fycAGgFTwobDwEU4hepG2oeWyDJIWUi6CJrI4UjcCQNJaklFycxJxcneyY8JEYhyByuF0USWQy8BtYBwv2y+nP4OfeC9ub15vWx9Zf1ffXg9Kz0+vTg9H31aPYf9434+/m3+yX94f6cAPABxgPMBIMFOQa3BZcEXgNtAZj/jf3R+y/6wfhz+PD3vPfw94j3Ofed9mP1RPSH8mjxy/CX8NDxCvMa9kn6Jf28AbcFcwfmCU8KSQkQCJ0FrAO8AWgAAABk/4IA0QDrAHMChwGcAJj/P/23+8H4gvbg9LzyBfI08f/wBfI58ljzFfU09lP3Wfj2+Cr52/hz+Ij30fY09mP1Y/WX9bH1TvbR9h/3H/fr9mj2l/Xg9A/0JPO88m3yOfLw8grzwfMV9eb1OfeN+OH5T/tu/Kj9rf5+/04AtgBtAQoCpwJ4A5ID+wN9BBUExgOSA3MCvAGcAH7/ef7x/Ov7ffpE+Vn40fZo9hr2aPa89yr5VPyY/3gDeAjcDNwRQBbSGZkdQSD9IWsjIiRwJHAkviS+JKQkDSW+JFYkByR/Io8gzR3tGdcVCxHXC/AGPgKT/tH7KvnW9zn36/br9gX3bvdT9zn3bvei99b3c/h4+Zj6nfsL/Xn+5v8fAXMCxgMaBdEFbgbWBlQG6wXMBEQDhwFK/1n9g/uS+XP4bvfR9tH2TvZO9k72sfWX9ZL0p/Pw8m3yPvOn8wX3mPpz/cwEkgjXC0USCxHxEIkQnQpeCPUC4f4//cf5afvM+oP7L/8l/fv+Kv6y+n36SfVY82jx6uwK7uXrYuvv7bbs4O/r8bzyGvYf9yr5rPmS+S/68Pfr9sz1PvOn81PyOfJE9PXz5vW39h/3Cvho9hr24PTW8m3yY/D67/rvd+8a8R/yD/TR9sH4IPx5/hoAwQLgA2MEzAQvBKwD2wLWAdYB8AHbAvsDGgWiBvAGPweiBrEEjQLm//H84flu9331ePQp9Kz0NPZZ+Mz6Xv6iATQFAAr7DeISyBdAG74fmiK+JK8mySbjJq8m3iXEJY8lEiaVJnsm/SaPJZ8jdSBaG1oWIBBjCawD3P3H+dH2ePT186fzXvTG9Mb0L/XG9JL09fOn8w/0rPQa9qL3ePkF/ML9sv/WAacC+wMaBWgF6wWdBQAFFQSNArYAef5u/C/68Pdo9n31rPR49En1Y/WX9QD2Y/X69PXzp/PB88Hz1vfH+XP9VAanBxANGxQ6EJMSvRB+CccIvAEv//H8ePkL/fv5Jf2y/4P7fv/r+xD5Kvlt8j7zFPAz7F3v+uqc7Nvuguxo8evxp/Oi91n4g/sa++v7bvyn+F756/b69DT2jfPM9QX3aPaS+RD5x/n7+W73vPcV9QrzvPIu8Brx5fB98Fjzp/Ox9Vn4KvlU/ML9L//WAVgCkgOxBE4FVAZUBlkHjQeNB60IEAhECCoIvAYFBpcEpwKCAMf+Wf0a+5L5wfhT95325vXM9TT2t/aN+H36c/0KAusFvAsREgwWqRtbILQiDSWpJRImjyXTI4UjfyLjIRwjtCJrIzwkmiISIWoeuBmeFDAORAgKAm78Kvmx9afzWPMK8/XzXvSS9LH1sfXM9cz1sfWC9uv2vPcQ+bL6VPyo/bL/6wDwAXgDSQTMBBoFzAQVBA8DOQFk/4395vqn+B/3l/X69Kz0L/VO9rf2H/fW91n4WfjH+U/7ovyHAeYEpwd+DgYQPxHnE4kQfg6IC4gGxgNoABX/qP2I/Hn+P/0l/T/9Ffp4+TT2PvPQ8aHtU+1o7A/qy+su65frPu5y7pfwofJE9E72Ofdz+Fn4JPi89072GvZj9RX15vVO9lP3c/iN+Cr5p/iI92j2RPRt8v/wxu9D79vud+/l8FPyRPQ09ln4Y/rR+3P9x/7M/5wAOQEkAtsCeAP7AxoFBQZUBj8HwQcQCPYHjQcKB9EFlwTBApwA+/68/Br7+/kk+Lz3bveI96f4RPlP+439ZP9YAoMF5gnMDkoTARkcHrQi/SaKKZUrGCzeKr8pgCfEJb4knyO5I58jhSNrI8khBx8MG6MVgw+tCAoCovwk+Pr0c/NY8yn0SfW39m73CvgK+Ij3H/eC9p32U/en+GP6iPzH/rYAWAJeAy8EYwRjBMYDrAP1AqIBHwGy/yr+OvzH+W73SfVY81PyaPFO8TnyCvN49J32Wfj7+T/9GgA5AbEEEAj2B+sKKg0gC3MMvAvcB9wH5gQfARoAwv1u/C/6Kvn2+E72aPbg9KHyofKS7w/vJO6X6+rsl+vL69XtnOwp78vwl/DW8qfzXvRj9X31NPYa9gD2sfVJ9bH14PSs9Pr0D/Re9Cn0JPNz84fy6/Fo8ZfwY/DG72PwsfDL8KHyc/Pg9Ov2ovfH+dH71vz7/tEAvAGsAzQFBQYlB6cHEAjcB0QIRAhzB3MHCgfRBYMFlwTbAtYBaAAV/6j9VPwF/Br7svo0+0/7vPz7/gUBAAXmCYMP1xVgHGsjnyiFLcowGDH+MFcuRytRKPMk0yMcI9MjqSXJJmso6CcnJRIhIRoREn4JaAAQ+Vjz+u8P7+DvbfJj9T/4Y/o0+8z6ePkF9/r0c/PW8nPz+vQK+AD7rf6iAUQDgwVUBm4GPwcfBhoFnQXBArL/RP4q+dvzFPBN7GzoTefV6AnpaOw08TnykvTR9vXzbfLl8Izud+9o8dH2fv/wBiAQfxjyGkYchBnxEMcIrf4a9hTw0OzV7ZLvzPWD+xD+CgK8Aa3+6/sV9frvGeyB503n6ufa6VjuOfJT97f7Xv4fAQoChwEAAFn95vpT9170CvMf8iTzFfVT9xr7c/2T/n7/Kv5p+9b3c/Os74Lskeop6rHr2+4F8mj2zPpz/TQAhwG8ASQC0QAAABoAmP/m/5wACgIVBAUGjQfHCEkJKghUBuAD5v+I/Nv4L/X18znyh/LG9BX11vcv+n36ovxZ/cf+UwGXBLcKWhFVGrkj+CooNCg5sDoEPB43hjKFLaklziJbIIoffyK5I8kmHSh1JckhhBkbDxoFrPn/8MXqbOgP6jntp/OS+ZP+pwIqA6IBmP8g/HP4TvY09o34t/uCAIgGcwyoEdcV3Ra9FaMVTw8KBw8Dwfh373zrDuUz4gTjLubv6Gjs2/Nz86fzGvah7T7plubu3mzeV9+644LssfWxBLIOhBm5I2UiQSXtHsIRWQxu/PDyjO5I5svr7+0k80T+mP/rBcwEKv4a+6HtxeVX35XXxNsY3Q7lvPKn+H0E6wq3CtwMTgVe/tv4ku9o7Hfq+uou8ET0mPoAAFgC+wNtAXP9vPcU8KvqkeVN4h7jDuXA6ZfwgvZU/AUBKgPbAlMBk/7h+R/3zPUV9ST41vyiASoIXw06EKgRIBAlDAUGTgBj+n31JPPQ8UT0t/Yq+Y39RP5e/sL9EPmX9U7xnOxI613qHu2H8l75rAN5Dc0YviTuLc82hzzgPupA2j2mONoz6SxrKL4kZSJBJckm8ymFLf4rWypQI5QXCwzW/JfwOOjk4Tjj7+gF8nn+KgjsDxsUrRKTDcwEiPyx9TTxh/KI9zQAVAu4FPcb2B9/HcIWqAzrAH31/+su5gnk3+X06cHuc/MA9gD2p/Mp78Dp2uSw4cXgM+LK5lPt9fOD+20BnQVJCYMK1wtuC0QNIBAwDpMSFhNzDEoOgwVp+/b4guwJ6U3n7+Om6XLpKe+h8pLvePQP7zPs2+4+6T7utvHb88L9L/8qAx8GhwFTAZ37NPYv9RTwLvCC8cvw9fOS9PXzKfS28ZLvh+1i6/rq4Oqx6wruSPBt8hX1gvaI94342/jB+F75L/oa+9b8EP5+/zkBWAKsA30ElwQ0BZcExgNeA9YBUwGcALL/NAAV/+H+Xv5U/Lf7EPm39pf1ofIf8oLxffCc8azvxu//8KzvwfN4+esAzA4cHlwvBEEVTsJWZFj2UbZFkDQ8JOIXTw8GEK4XtCL5Lwk4kTnUMiwhaQr/8DzaW8xAxwLPR+FT99IPtCLJK2YsriElEX7/Xe846PTpc/MvBEAWRibeL9kulSaOFiQC+u/F4LTYz9g33lLoCvOy+vv+c/289+Dv5eYt4bre9N/f5e/tBfdK/2gFYwkgC4MKRAg5BngD6wBe/rz8bvyd+8L9nACNAkQIAAoqCF4Isv8A9vXuOONx34vfTeIk7tH2WALRCuYJNArrAGj2NPHv6JHql/Ci9+ADTwrmDpMNFQS3+1juPeT54GzejOTq7Nvzafsl/QX8H/fG76vqq+VI5vTpjO5T96L8NAAkAuH+ovw59yTzc/No8Un1+/lP+04AaABk/37/mPoQ+aL3Tvb2+ET58fxOALYAXgMPA40C8AFK/xD+OvzH+Qr45vVj9Xj0wfMv9RX1SfV99QrzffDq7Prqcu7r9j8HHB4TOllWvmkNdJpxb19DQ5oiVAbg9JfwOvx5Es8sKUPRSndDtCySCO/jNsVzsxq2McnV6McNNy3bQl5I9D2QKsIRC/1j8B7tNPY0BW8VtCKFKCwmjxs6C/v5Keod3mHXpdXp2Ibe9OQE7XPz2/g//S//ZP8L/V75L/WC8cvw1vIq+dsC1wsBFJkYqBY1D14DzPXa6RjiQuCM5FPt1vcFAYgG4QgKB40C0QBE/l7+4AMVBLwGpwcFAeH+bvcf8qHyQ++s9IL2ffXH+T7zy/Aa8f/rNPHG9Fn4NABk/wAAJf1e9E7xfOty6R7t1e288uD0CvPQ8Wjscunq5wToOe2H8nP4P/0q/nP9mPrR9vr0xvSI95j6RP45AU4A+/4a+5324PQK8y/1Cvjm+mT/AAA5AfABtgDBAmMETgVZB40HtwW8AXP9+/nG9D7zKfQP9J32nfax9cb0ku+X6//m7+OM5Kbkoe1Z/RsPWyq8RithTHZ2ec5xSl1NOyYbP/1t7ZLv9vhpD0EllTCLMwIjmAnB7s7T3ccxyePXRPR0EbQs/z+HRpxFGTv4KksdoxBzB8ECGgBTAXgDfQSDBcYDx/409trpGN1G0nDLW8xW1Sjl1vc0CsgX4hwhGjoQFQQQ+Yfy8PJZ+FMBmAnHDdwMOQYF/EjwluZH4aXfm+Lq5z7urPTH+RD+OQH7A+sFpwdjCdEKKg3mDr0QrRK4D1QL9QKC9jPsI9/U2e7ZE9zv6LbxafsqA04AbQG8/PD3NPtp+woCWQcKB0QITgC898bvkeWG44HiI+Ta6TPscu5d76buQ+808ZL04flE/tEA9QJtAUr/c/0V+uH5EPmI94j34PTw8k7xrO9T8rH1+/nM/6cCsQR9BAUB4f4L/VT8Wf1e/mgA1gFtAdEAAAD2/Sr+ZP8aAKcCkgNeAz4C1vyn+Jf1BfJ98EPvsfCc8frqM+fF5aDjnOx5/ugd60VLYj14/3/Eb6JQxCXgA//wI+Tg7x8GqBbeJf0hwhbmBA/qut7U2endPu72/WQThSNmLKY4WD3QO+k2RysxHY0MvPzG9Arz0fbc/XMCpwIa+2jsht4d1CLQydcZ58f50QoGFVAZjhYbD8EHjQI5AR8B6wBOAHn++/le9LHwbe0U6wnpsOZI5pHlZ+dT7UT09v3RBTQKPwwvCbcFogGT/mgAhwEVBNYG0QVJBHMCSv9u/F75FfVT8u/tkeqM7sbvOfcfAacCNArWBocBJALb+Fn95v8v/6IGTgDc/Qr45ev66pvnKerl8KHynfYF9/Xzh/Jo8aHyOfey+qL8x/7x/JL5KvkF96L3KvmN+AD7p/jr9nj58PcA+1n9iPxz/RX6OffM9fr0P/ii/AUB0QVzB9YGAAVTAeb/sv8FARUEJQcvCaIGaAWSAxoA0QB+/04A2wJTAcECpwK8AS8EogFtASQCT/sQ+bH1FPCX8KHtcu5Y7qHoBO2s7/r0vAsXJ7FJNmN1ZUtiAEpgJngIKeo445vi2uR99T/4qP05ARr71gFoAAAAeAiICzUUfxj3IFwviy4NL6UutCIBFE4F5vp99cHzBfeN+AX3l/X/8ATth+2X8B/3aADHCDAO9hGtEiURaQ+8CxAIkgML/RD5rPSc8Rrx4O/L8HfvtuzQ7MXq/+tj8F70g/tTARUEGgWXBPsDwQIfAUr/EP4F/JL5H/fg9CT4VPyT/vAB8AEV/xr7SfUP9HPzePTr+0r/GgCCAET+3P0V+tv4T/vM+m788fzr+4P7zPrh+RD59vgF92j2Y/Ve9H31p/NE9Pr0p/MV9X316/as+WP61vwV/3n+rf7C/ev7zPq89+b1GvYP9Jf18Pe890n6zPrr+9z9ovxk/5P+ovwv/5j/9QI5BiAL4Q1uC24LvAYKAmgAbQHGA6wDJQeiBmMENAVjBMwEPwfRCusKNAq3CswJjQexBC8E0QDC/dz9vPzC/fH8Jf1u/Mz1BfIu8O/t7+1I8KfzePQv9fv5Ff+YCY8blSubO6xDxT43MoQe3Awl/fr0EPnr++H+CgIFAev7nfZo9sH41vyDBVQQShiEHn8i4yGEHoQZhBRUEJMN1wsACvAGvAHM+uvxkep85pbmfOuc8eH5BQF4A9YG3Ac5Bh8GnQXRBZcE8AHrAHP9XvmC9rzyLvDb7rvtpu4u8MvwbfIf8oLxvPJz8xr2Sfoq/m0BRAMqAz4CL/+i/Dr84flj+vH8wv1TARUEnQU5BiQCZP80+wr4Sfrh+RD+hwFoAOsA8fyd+0/7bvzWAeADjQeiBngDnABP+5j6rPmI/Mz/TgC8AY39Ffr69A/vbe0U6wruNPEP9Ij3iPf2+Lz36/aS+Zj6EP7RAFMBUwE6/Pv58PcK8+b1JPjr+63+Kv7RANb8nfsV+gD7RP6cAGMJTwppD60NkgiDCrwBfQTWAfABFQnBArcKBQZEA/AGef5OBfABgwXxCwYLPxE/DG4LzAScAEr/bvxzAusA1gYVBOsAvAHR9uv7Ofc591T8NPaN/fD3t/aC9tvuBfI+7h/yg/usA+ENARRqGX8YoxWJEKgMJQwqCG4LcwwACvAGogE0AH36XvnC/WgAsQQaCtwMRA2TDa0NZA64D1QQWhE6EGQOoguiBngDsv+o/VT8Bfy8/D/9T/v7+Xj5OfcQ+YP7Sv9zAsECFQQ+AhX/L/8q/tz94f5z/dH7GvvW92j2GvYP9Mz1XvTm9db3ovd9+hX6APt9+hD5Ovw//eH+hwHRAAAArf40+zr81vxu/I0CAACiAaIBBfyCACD8tgB4A1MBeAiiAbwBsv+S+db8Cvjx/Cr+P/2CANb8Kv6d+1n9L/9k/9sCnAC8AT/9L/rh+TT2p/gF99b3bvcp9LH1kvSX9T/4Y/ol/UT+VPzC/WP6vPeS+Xj0ovdj9bH1x/mh8sH4p/PM9Qv9mPpzB4IASQSsA5376wU5AXkN8RBuC4MP6wA//eb6Wf2nB8wJPxHhDVQLSQQFAZcEjQJZDPsN5g6tEscNoguYCS8Ecwe3BY0HWQy3BaIG+/4/+JL5WPN9+i//vPw5Acf5OfdO9hX1afsL/S//1gF+/5P+Ff+o/cz/JALWAdsCFQTbArEElwQfBgoHYwR4CB8G6wXBB8ECBQbbAsECvAZJBC8JcwclB/YHlwQ5BgoHjQf2B+EIVAZ9BCoD6wDRABoAnABoALL/x/4L/aj9nfs6/CD84fnR+7L6mPpJ+sf5zPpp+7z8Wf15/iX9iPwL/eH5zPq8/AX89v0L/ev7iPwA+yX9c/1u/JP+1vwL/dz9EP7H/n7/tgAfAZwATgDWAW0Bsv8aACX9BfzR+537ggA//S//NAA//YIAbvzM/8f+afsq/kT5ffpE+UT5bvx4+W78svog/Fn9IPzh/mn7iPw0+7L6t/tz+JL5jfgv+jr8IPw//S/6Kvk597z3x/nR+04Ak/6t/gv9Jf2CAIcB1ganByoIJQcABbEEfv9K/zr80ftZ/SD8sv+I/I398fxu/LYApwIvCV4IXgiIBo0C4APGAyoInQq8CwYLeAiDBQoCHwFk/yQCvAGNAn0EAADBAm0BPgLBAjQAAAWHAYcBBQGN/Xn+qP00ADkBAADM/5P+C/2t/i//CgL7A5cESQR4A9sCeAMaBS8EPwe3BRoFbgbmBJ0FHwbrBY0HlwQvBLEEogFEAzQFTgUFBgUG1gYFBqwDHwb1AqwDjQJtAfsDnACnAlMB+/5e/oP7bvwg/Dr8T/t9+sf58PcV+ir5NPuy+hD5t/ui98f5iPzr+yr+Jf0Q/uH+x/6NAqcC6wAAANb8iPyo/bL/8AFtAfABXv5P+7f7Ovx+/4IACgIl/X36NPtu94j8c/1OAAAAt/vM/9H7OvwAAPv+mP8//Y39BfxJ+p37mPqd+yD8vPzx/NH7Ffrw9wv9Kv5J+tb81vwV+l75x/6cAAD7afv2/ZL5OfdU/NH7c/iY+lT8svqI97f7Jf1p+5P+cwLWAX7/0QDRALYAfQR4CF4IiAbmBGgFLwThCCUHvAYkAq3+5v+T/gUG6wVOBWgFvAH1AswEcwc/B50F0QXBApcEkgPmBKIBef6CAMf+0QD1Ah8BKv68/F7+rf5zAmMEXgNOAMz/hwEaAKcC2wK8AbL/L/+HAQoCXgPgAw8DXgNTAU4FaAXrBYgGNAUABV4DVAYlB4MFaAV4A2MEDwOdBaIGlwQaBbwBvAF+/+sAhwEAAOsAL//M/2T/Sv+2ANz9Sv+N/Y39EP7C/a3+c/3h/l7+EP4Q/tz9L/95/rL/k/5z/cL9t/vx/CD8Wf1z/Y39P/1U/HP9ovzC/Vn93P2o/fH8RP72/cf+ef6t/sz/Sv9TAQUB8AFYArwB5v/2/aj9Jf2o/cL9k/7r+278mPqy+iD8Wf37/kT+3P3W/AX8x/5OALwBOQEv/+H+nft5/ln9wv0L/Rr7T/vH+S/6nftU/ML9wv1z/Y39Bfzx/CX9L/9k/9z9Wf37+Un6zPpP+63+RP4FAXn+8fwg/Ov7BQGiASoD0QAL/dz9RP6xBOsF5gQKAiX93P1oALEEfQSnAq3+NPs//YIAaAVJBI0CRP4//eH+GgBJBDkBOQEv/17+UwE0ALEEJALm/2gAZP/7A0QD0QXBArYA+wOsA14IcwcfBn0EDwNUBjkGYwnWBgAFFQSNAuADNAUfBiUHfQRjBKcC9QJjBGMElwTBAnMCBQE+AsECYwQABfsDPgJTAVMBhwEqA/UCOQFoAMf+zP+cAPABTgDh/qj9ovwL/Y39Kv4l/aL80ftu/KL8wv0L/aL86/vR+9b8IPxu/NH7Bfyd+4P7bvzW/PH8Ff9E/uH++/5E/mT/ef7RABX/sv+T/iX9EP7C/eH+ZP95/mT/x/5k/+H+3P1+/2T/6wAFAesAzP8aAMz/8AEfAYcB4f5z/SX9iPyT/sL9wv2D+5L52/iS+eb6Jf1P+xX6jfjH+SD8IPxp+0n6Sfpj+oj8P/3c/db8vPyi/Ij8qP0l/dz9P/2o/dz9BfzW/CD8Kv6T/sf+rf55/ir+Sv+Y/7wBnABoAMf+k/6HAdEAPgIq/pP+Wf2o/cz/GgAFARoArf5K/8f+kgOnAuAD4AOiAX0EjQIlB/YHpwfhCNEF9gcQCHgItwqyCQsMAArmCUkJ9ge3CvsI5gnhCLwGJQcaBQUGYwQ0BQ8DJAIKAh8B1gG2AIIAZP9E/gv9Wf1z/aj9vPzr+0/78fyi/Nz9Wf2N/Y39qP1E/pP+5v8q/mgARP77/pP+rf6y/yr+ZP+o/dz9jf0g/Hn+iPyN/bz85vo//QD7wv06/G78Wf0A+/H85vo6/Nb8afsQ/i/6ovxP++v7RP5u/Pv+IPxZ/SX93P3m//v+AADM/8f+OQFoAKwDDwPbAi8EUwEABcECsQSSA6cCrAMfAZIDvAHBAiQC1gFzAusAOQHRANEAOQFOABoAFf+N/fv+Wf1k/439RP5u/AD76/uY+qL85vrM+l75Xvmy+jT70fsa+0T5ePl4+WP6nfsa+yD8APs0+2n7Bfyt/l7+rf5z/db8RP5E/uH+fv+Y/xoAFf9k/3n+fv80ALL/aADc/dz9C/3C/cf+qP3C/Tr8c/3H/pP+mP+t/pwAtgDWASoDWALMBGMEOQanB9wHfgkqCAAKVAtZDNwMOgvcDNcLKg2tDY0MXw06C1QLgwppCuYJeAjBB7cFHwaXBEQDpwLRAB8Bsv8V/xD+C/0//bf71vyd+0/75vpJ+oP7afvr+0/7svrM+rL6ovzW/HP9iPyd+wv9C/3h/nn+EP4Q/vb9+/77/sz/sv8V/7L/rf5K/+H++/7M/y//Ff/c/Y39Xv55/gAArf6T/o39P/1e/uH+mP9K/8f+ef77/mT/TgCy/wAAL/8V/63+ZP8V/xoAfv9+/8z/AABtAesA8AEFAdYBUwGiAXMC1gHwAbwBHwHWAesAbQEFAW0BbQGy/04Ax/62ADQAtgCCAPv+mP9e/pj/ZP/7/q3+8fyo/fH8P/1Z/Tr8Ovwa+4P7nfud+zr85vo0+5j6mPrm+ub6T/uy+hr7Sfrh+ZL5+/kV+sf5kvlE+Sr5Kvn2+Cr5Xvle+az59vjh+Xj5mPqy+ub6bvyd+9b86/sL/V7+ef5oAPv+ZP9K/+b/wQJzAgAFxgPgA7cFTgX7CEQI5gmYCRAIGgqtCKILnQogC08K4QjmCWMJLwmyCXMHrQi8BtYGiAY0BaIGfQS3BZIDeAPBAlgCWAJYAtEAOQEAANEAaACcALYASv+CAOH+GgAAAIIAggBOAGgAzP/M/+b/aAAfAWgAGgCy/7L/ggBOABoAmP/m/37/fv9+/8f+Ff95/ir+EP6N/Y39Jf2o/Vn9C/2i/AX8vPwF/Lz8iPyI/G78Ovy8/D/9Kv5E/vb9RP4Q/sf+ZP9K/37/Sv+y/xoAggA5AbYAOQEfAZwAUwGCAKIB6wA5AbYAGgBoAGgA6wDRAOb/AAAV/+b/ZP/M/7L/4f5K/3n+fv/H/sz/ZP8v/63+Ff9k/5j/5v+Y/5j/sv8aADQAaACCAFMBtgA5AQUBogFYAj4CwQIKAgoC8AEkAo0C8AG8AQUBHwFtATkBhwG2ANEAaAA0AIIATgA0ALL/ZP9+//v+fv/7/mT/Ff8v//v+ef6T/nn+ef7H/kT+Kv4Q/hD+4f5e/vv+Xv6t/l7+k/7h/sf+k/4q/vb9ef5e/q3+ef5e/sf+Xv7h/l7+ef7h/vv+Ff/H/uH+4f5+/7L/mP+Y/37/sv/M/8z/AABOAOb/aAAaAOsA0QAFAdEA6wAFAbYA0QCcAAUBggC2ABoATgBOABoAAADM/5j/Sv+y/y//sv/h/rL/Ff9K/2T/4f5k/3n+sv9e/rL/x/5+/0r/zP8aALL/TgAaANEAaAA5AdEAUwE5AQoCogFzAqIBcwIKAvABJALWASQCvAHwAdYBogHWAaIBCgKHAaIB1gE5AdYBUwGHAZwAHwGcAOsATgCcALL/NABK/5j/fv8v/37/k/4v/yr+L/9E/kr/k/77/q3+x/7h/kr/fv/h/hX/Xv7H/uH+Sv9K/0r/L/9k/+b/AAAAAGgATgDrABoAnAAaAKIBogGNAgAAtgCCAKIB9QK2AFgCx/6iARoAUwFTAcz/BQFe/mgARP4V/3n+ef7c/T/9VPy8/G78c/3W/Br7ovz7+T/9aftz/bz8IPzx/Ov73P32/ZP+rf4q/vv+4f5K/9EAnABtAW0BHwEkAgoCeANEA/sD+wMPA+ADKgN9BGMELwTGA/UCDwNEA6cCXgNYAj4CHwFTAesABQE5AbYAaADm/0r/L/8v/xX/Sv+T/ir+3P0Q/tz9RP6o/cL9qP1Z/cL9RP6t/hX/ef4v/63+Sv9+/7L/ggBK/wAAfv8AALYAtgDrALYAggAfAU4AhwEfAbwBOQHrAKIB0QDwAVMBbQEfAZwA0QCCAGgAggCy/2gAfv8AAH7/Sv+Y//v+sv+T/i//rf5K/xX/Sv8v/+H++/7H/n7/+/7m/+H+sv8V/5j/AAB+/xoAsv/m/5j/aADm/5wA5v9OADQANADRAAAA6wAAALYANABoAAAANAA0ABoAaAAAADQANACCAE4ATgAAABoAGgAaAJwA5v80ADQAAABoAGgAnABoAE4AggCcAJwA0QC2ALYAaACcAE4AnAA0AGgAggCcAGgAaABOAGgAnAAAADQASv80ALL/NADM/+b/5v/M/5j/zP+y/7L/L//7/vv+x/5k/63+Sv95/sf+x/7h/uH+L/+T/vv+Xv4V/8f+4f4V/3n+Sv95/kr/Sv9K/37/Sv+y/37/mP/M/5j/NADM/wAAsv/M/xoAzP9oAAAAGgA0AMz/nABOALYANAAAAE4AGgCcAE4ANAAaAOb/AADm/+b/AADM/wAAmP/m/5j/zP8AAMz/AACy/7L/5v/M/xoAzP/m/+b/zP8aAJj/NADm/xoATgDM/4IAGgCcANEAnADrAGgABQEFATkBhwEFAVMBBQEFAR8B6wBTAQUBBQHrAJwAOQHRAB8BBQG2ADkBTgDrAIIAnADRADQAtgAAAGgAaAAaANEAzP+CAMz/GgAaAMz/AACy/wAAsv8AAMz/fv+Y/5j/fv8v/0r/L/8V/0r/L/9K/xX/Ff8V/xX/Sv8V/0r/ZP8v//v+ZP8v/2T/L/9k/y//L/+Y/xX/zP8V/2T/Ff8V/2T/Sv9+/2T/Sv9+/y//mP8v/2T/ZP8v/37/x/5K/8f+L/9K/xX/Ff8V/xX/ZP8v/37/ZP9K/2T/L/+Y/37/ZP+Y/2T/mP+Y/7L/5v+y/xoAsv8AAOb/zP8aAMz/GgAAABoAaAAaAGgATgA0AGgANACcADQAggBoAGgAtgBoAIIAaABOAIIAaACCAE4ATgBoADQAaAA0ADQANAAAAE4AAAA0ABoAAAAaABoANAAAAAAAAADm/+b/zP/m/5j/mP/M/8z/zP9+/5j/fv+y/5j/mP9+/5j/fv+Y/8z/mP/m/37/sv+y/37/zP+Y/+b/fv+Y/8z/sv8AAJj/5v/M/+b/GgDm/04AGgBOADQATgBoADQAaABOAIIAnABoAJwAaABoAJwAggCcADQAaABoAIIA0QCCAJwAggCCANEAnADRALYAnAC2AIIAnACcAJwA0QC2ALYA0QDRAJwAnAC2AJwAggCCAIIAnACCAJwAggCCAGgATgBoAE4ATgBOADQAGgAAABoAGgAaABoANAAAABoAAADm/wAAzP+y/5j/sv+Y/37/fv8v/2T/Sv9k/y//L/8v//v+L//h/uH++/7h/vv+4f7h/uH+x/7H/sf+4f4V/xX/+/4V//v+Sv8v/y//ZP9k/5j/mP+y/7L/zP/M/7L/zP/m/+b/5v/m/+b/zP/m/+b/5v/m/8z/zP/m/+b/zP/m/+b/zP/m/+b/sv/m/5j/zP/M/5j/sv9+/5j/sv+y/7L/sv/M/8z/5v/m/8z/5v8AAMz/5v8AAOb/5v8AAAAA5v/m/+b/AADm/+b/AADM/+b/5v/m/+b/5v/m/wAAAAAAAAAAAAAAAAAAGgAaAAAAAAAaADQANAA0ADQANAA0AGgAaABoAIIAaACcALYAtgDRALYA0QDRAOsABQEFAR8BHwE5ATkBBQEfAQUBBQEFAesAHwHRANEA0QC2ANEAnAC2AJwAggCcAGgAaABOAE4ATgAaAE4ANAAAAAAAAAAAAAAAAADm/8z/sv+y/7L/mP+Y/2T/ZP9K/0r/Sv8v/0r/Ff8V//v+Ff/7/uH+4f7h/uH+x/7H/uH++/4V//v+Ff8v/xX/Sv9K/0r/fv9+/37/mP+Y/37/zP/M/8z/5v/m/+b/5v8AAMz/zP/M/7L/zP/M/+b/5v/m/wAA5v8AAAAAAAAaAAAAGgAAABoANAAaAGgAaACCAIIAggC2AJwAtgC2ALYAtgCcALYAtgDRAOsA6wC2ALYA0QDRANEAtgCcAGgAggCCAIIAaAA0ADQANAAaABoAAAAaAAAAAAAAAOb/AADM/7L/sv+y/5j/fv9k/2T/Sv8V/y//L/8V/y//+/4V/y//+/4V//v+Ff8V/xX/Sv8v/2T/L/9k/37/L/9+/2T/Sv9k/37/fv9+/37/ZP9+/2T/mP9+/8z/zP+y/wAA5v/m/wAAAAAAABoAGgAAABoAAAAaADQANAA0ADQAaABoAE4AggBoAIIAaABoAIIATgCCAGgATgBoAE4ATgBOADQAaABOAE4AaABOABoATgBoADQATgA0AE4ANAA0ABoAGgA0ABoAGgAAAAAAGgAAAAAAAAAaABoAAAA0ABoANAAaADQANAAaAE4AAAA0AE4AGgBOADQANAA0ADQANAA0AE4AGgAaABoAAAAaABoAGgA0ADQAAAAaABoAGgAaAAAAGgAAAAAAAAAAAAAAAAAAAAAAAADm/wAAAAAAAOb/5v/m/+b/sv+y/7L/mP+y/5j/zP+y/5j/sv+Y/7L/sv+y/8z/sv+y/8z/sv+y/5j/mP9+/2T/ZP9+/2T/ZP9K/0r/Sv8v/2T/ZP9k/2T/fv9+/37/sv+y/5j/sv/M/7L/5v/M/+b/5v/M/8z/zP/m/+b/5v/M/+b/5v/m/+b/AAAAAAAAAAAAADQAGgAaABoAGgAaAE4ATgBOAGgAaACCAIIAggC2ALYAtgCcANEA0QDRAOsAtgAFAesA0QDRANEA6wC2AOsABQHrAAUB0QDRAOsA0QC2ALYA0QC2ALYAggBoAIIATgBOABoANAAaAAAAAAAAAAAA5v8AAMz/zP+y/8z/5v+y/8z/sv+Y/5j/mP+Y/2T/ZP8v/0r/Sv8v/2T/ZP9K/2T/Sv9K/y//Sv9K/y//ZP9K/2T/Sv9K/2T/Sv9K/37/mP+Y/5j/sv+Y/7L/mP9+/5j/ZP+Y/37/fv9+/37/mP9+/5j/fv+y/7L/mP+y/7L/5v/m/+b/zP/M/+b/zP/m/8z/zP/M/8z/zP8AAOb/5v8AAAAAAAAAAAAA5v8AAAAAAAAAABoAAAAaABoAGgA0ABoATgA0AGgAaAA0AGgANABoAE4AaACCAGgAggBOAGgANABOAE4ATgBOAE4AaAA0AGgAaACCAIIATgBoADQATgA0ADQAaABOAE4ANABOAGgATgA0AAAAGgAaAAAAAAAAAAAAAAAAAAAAzP/M/wAAzP+y/7L/sv+Y/5j/mP+Y/7L/mP/M/7L/sv+Y/2T/mP9+/5j/mP+y/7L/sv+y/7L/zP/M/+b/zP/M/8z/5v/M/5j/zP/M/7L/zP+y/7L/mP+Y/37/mP+y/7L/zP/M/+b/5v/m/wAA5v8AAAAAAAAAAAAAAAAAAAAAAAA0ADQANAAaAE4ANAA0AE4ATgBoAE4ANABOAE4ATgBOAE4AaABoAE4ATgCCAGgAggCCAJwAnACcALYAggCcAJwAnABoAGgAggBoAGgATgBOADQATgAaAAAAAAAAAAAAAAAAAAAA5v/M/+b/5v/M/8z/zP/m/8z/zP+Y/7L/mP9+/37/L/9K/2T/ZP9K/y//Sv8v/y//L/9K/y//L/8V/+H+Ff8v/0r/L/9k/2T/fv+Y/37/fv9+/37/ZP9k/37/ZP9k/37/fv9k/37/sv+Y/7L/mP9+/7L/mP9+/5j/mP+y/8z/sv+y/5j/zP/m/+b/AAAAAAAAAAAaADQANABOADQAGgA0AE4ANABoAIIAaACcAJwAggBoAGgAggBoAE4ANABOAE4ANABoAGgATgBOAE4ANABOADQANAAaAAAAGgAAAAAAAAAaABoAAAAAAAAAAADm/8z/zP+y/+b/zP/m/+b/zP/m/7L/sv/M/8z/zP/M/7L/zP/M/8z/5v+y/wAA5v/M/wAAAAAAAAAAAAAAAAAAGgAAAAAAAAAaABoAGgA0ADQANAAaADQAAAAAABoAAAAAAAAAAAAAAAAAAAAAAAAAAAAAAAAAAAAaABoAAAAAAAAAAAAAAAAANABoAGgATgBoAIIAaABOABoAAAAAAAAAAAAAAAAAAAAAAAAAGgAaAAAAAADM/8z/zP+y/+b/sv+y/8z/sv/M/8z/5v/M/7L/zP+y/8z/sv+Y/5j/sv+Y/5j/zP+y/7L/zP+y/+b/zP+y/8z/zP/M/8z/zP/m/+b/5v/m/wAAAAAAAAAAGgAaADQAGgAaAE4ATgCCAIIAnACcAJwAtgCcALYAtgCcALYAtgCCAJwAnABoAIIAggCcAGgAaACCAE4ATgA0AAAAAAAAAAAA5v/M/8z/zP+y/5j/fv9+/7L/mP9+/37/fv9+/37/mP+Y/37/mP9+/37/fv+Y/5j/fv9+/2T/fv+Y/2T/fv9k/37/fv9+/37/ZP+Y/7L/sv/m/+b/5v8AAAAAAAAAAAAAAAAAAAAAAAAAAAAAAAAAAAAAAAAAAAAAAAAaAAAAAAAAABoAGgAAABoAGgBOAGgAaABoAGgAaACCAGgAggCcAJwAnACcALYAnAC2ALYAnACcAIIAnAC2AIIAaABoAE4AggBoAE4ANAAAABoAGgAAAAAAAAAAAAAA5v/m/8z/sv9+/37/fv8v/y//Ff/7/vv+Ff/h/uH+4f7h/uH+4f4V//v+Ff/7/hX/L/8v/2T/fv9+/2T/ZP9+/5j/fv9+/5j/mP+Y/5j/zP/M/+b/5v/m/+b/5v/m/8z/5v8AAAAAAAAAAAAAAAAaABoAGgBOAGgANAAaABoAGgA0ADQANAAaAE4ATgBOADQATgBOADQANABOAE4ANAA0AE4ATgA0ADQATgBoAE4ATgBoAGgATgAaADQAGgAAABoAGgAAAAAAAAAAAAAAAAAAAOb/AAAAAOb/AAAAAAAAAAAAAAAAAAAAAOb/5v8AAOb/5v8aAAAAAAAAABoAAADm/+b/fv/M/7L/5v8AAAAANAAAAE4AnABOADQAaACCAIIA0QCcAIIA6wC2AIIAnABoAE4AaAAAAAAA5v9+/37/ZP9+/5j/L/9K//v++/5k/y//Sv8V/y//L/9k/+b/ZP+y/zQANACCAJwATgA0ABoAGgAAADQATgDm/04AggA0AAAA5v8AAMz/5v/m/8z/GgDm/xoAAADM/xoAfv9k/5j/+/4V/+H+Ff9+/5j/mP/7/mT/Sv8V/37/+/5K/8z/Ff9k/+b/ZP/m/zQAAACY/8z/fv9K/8z/ggA0AC//UwEfAQAAHwGcAOb/ZP80ADQAfv8fARoAGgA0ABoAzP+y/1MBsv/M/3MChwHbAtwMzRMq/i//qAyc7Hj5sQTR9sf5bvyyCSr5nQpPD8vwYwltAZLvDwO8/FP3P/jhCD/9aPG9EDr84fkqCCD8fv/7+VoRhBSYDioINAA/B8Hu+w0q+eDvVAas9D/9JALH+fH8vAHc/QD76/ZE+VPyY/oL/dz9OfJ+/3gD1vet/sz69v2h8vUCCgdj8LEEjQK28ccIrPnrBcz/SfqNDF70YwRTAX7/1vwfBgYQwOkVDuYJOOOPGyT4p/NvGqz01vyoFrzyaft5DRD5Xv5eA7cFkvT7AxUOUuMmG+D0c/MxHTjjTxSi9yD80QrG7wEUvPKiCxoKluZgIQ/00fsmFgTo9yCs717+jyUSzXoh1gYE6NIU2wJK/8f5dBaM7j4CvRBI67IO1gFe+X7/WQdE9CoDVAtz87cFgwUK85P+SQSy/13vKxzw9xns/SHV6KIB5vV0G7DhRAhPFGvZRhyH8tz9ffov+lQQYdw1FJj6XeoBFPrqwQc/+EkEEP677egiB8tQGWMEDdtbJdrfNApP+7L/EP5j+qgWSOYaCisXE+ErF13vOxpN7Er/dSCB3d0bt/ZEA2gF/tc1FCPfBfe5KGvPuSMp6gUG9xbj0nc+UdS8/OgiudTeL3TCbDw+82XO2GmHqK4XCC6Ky80daACi/Ov2zRg6/MDkpTMC1FQLUSjp3VobjhZE9IIAeytd5dwHXDQp6msjvRVaEbz8AQ/xCw7gvh/J14MFwfgT4cIWItWNDAD2KepaETjjCvPR+5fwsfAk+PYH+eCoEZf1gvZ4CPv5PgLW/KgMl/XMBC8E2+4QDaIGSOtaFir+Pu4gC34JXeXsFJL5qP2y+vYHRP4Y4oof2unm/z4Cpu7MBKIB5fCd+6cH4Oq8/AEUQ+qdBTr8JPj7DbDh8RDx/DPsqSD17g/0WhHW8n7/RAggEOTc+CVZ/afzBgv7CCUMV+SVJub/EPmsAwcaffBUBkoYOfcgCzr8ogZPCsrmayga9srmqzlM080TEA1d5X4TaPHxFaHoSQnXFSjgySHq534TtwVC4OQwBO0p9AsRP/hjBOb1DBZ4A8rczifV7ZwANAAaBWMEBO3tGdb3zPrGA5P+JAI6/I0C5gR49LwB8hqR5U8KNAAl/agR2uQHH4HnvPdgHC7mzARtATn3cwxy7tIZCd+NBzAYZc4nJWjxAACS+T8RXv7f5WYn/tepG50FLNJmJ03ifgnl8NEKkgNs3nc5Asp0G8z6QuVGJhPcNhmG3kQNnAAT4XEzicZLIuYECd/TKBLSwyBt7Sr+FQ5s43kXLeEMIMz/R+GeGT4CbfLrCnj0rQ0j6ZIIJhtr2XQRrAMQ+SoD6wAq/u/t2BrM+rbnpB9I6z/9IBA5AS/6wfMcI5HlnfsrHMDpZP/3Fkjrfv9VFe/oCwwfARD5GgXM/wAKOfIrEqL8xerpLP7cCwytDeD0JAIg/DUPQ+qjEKIGlwS88qgM0QUF9yUMD/RpD4j3sglK/9rpMR1z+Nb3DwO3BRAI5OE8Kcb0I+lvFYfyBQZ4+ccI5gRX5N0WmPptAZ32jf3sFA3bdBYqCJzx8PJQGdvupwfW/Pb95v/m+pMSkeVPCl7+Kv4v+k8PD/Qa8ZMSKe/r+3kS5vXW8twRbgvU1K0SZR0C1D4CVR8+86rb7i28Ac7TIR/BB/rvT/tkDhr2g/sRF+/jBfzYGg7lOQHyGu/t0fvrCqMQSOtk/zwkGOL1Ak4Fk/7wBjjovh8Z7Pb4KxxT7X4TnOx5DeH+WO4MIAnkeANk/40HjQx36ioNrf45Bn36sgkFAfnbNh7mCcDkCwzmDkjrY/qKJNrp4fmYCdv4T/sQ+YQeUt4A+wca7+0BDz7zrhca8drf1Tct4fr0ZA5J+pj/6/HtHmjsRPRGHMvrmAkkAvr06wWx9Z0K6/vl8HQbD+8v+rgPVPzm/7f25glz89sCeRJC4GMJtwVE+ZgJ2/gRHF3ljf3iElPyaQqd9jkBrPkAAAEU8PfG7zsVTvbr+x8G1xDF4J0KcB970gwWHwHr9goHLwQGEPngJQdpD3Lu7Rm63mkUFf8v9TYZluEMINXosv+bMSzNShO8BkT5vAGX8M0dms6uF+cYXeWXBB8G6/uS9E8P3Afq7J37OQGXBMYDl/CoEQruAAD2DPXuYBx36k7xJiB86xr78Qsa+yT4GgXRAF4DhwFjBCr+2wIGCz/9ffXm+gEPIPzH/qIBTgDb+Ij8qBHC/aHyg/vrBW73NQ+d9kPqzRMq+XP9nADWAST4KvnnE4IAHug/DOH+svrmCfb4TxRI5m4GdBvA6WP1ehycAGbdfx0F/MvrXgiTErEEPd9ECLMY0Of1AqMQOe3Q8cgXvAHQ7McSPun1AjAOffA5AacHffp36vcW8AY931oRHwbB+IcBXggVBHLuXgiNDF75nAD1Ap37ffWoFqcHTec0BX36zA7m+lMBPwcp9GP6x/mZHSoDKOU1D1QG+u/MDpwAVPz17qcCeQ1OACoIxu8fBkn6bvccHgrzmPok+LIOSQTQ53ocLvDR9h8GtgAKB/XzwQfQ8UQNaAXG9EkJt/bBAvABWAI6/GP6rRIZ7HgDIBDH+RD+NPbXFdvzmAl99YcBvAaX9dEFjf1jCVn48fytCC/1HwGiC/nlgwo0Ck7xVPwFBuADzP/1AiT4wQeiAWn7vPydBZLvgwpu/I0CnADb8y8JBfx5DYj3nfsf9wYQ4AMQ+fH8RPm8Aeb6Xgj7/sz6ePnR+3kNrAOy/1juGgBkDp37KginB4P7+u9JBG4GSQT187cFaABk/5MN2/MlDG3y+wPRBeDvRRd4+Zj6ovz7CKcCut4NJXP4Pu7hDVn9gwU+818SsfCn+HkXFfWNB1n4aAB+DuDvsg4f8oP76wrB89IUAPs599EAzPqjENb3cweCAO/tKxJZ+A8DkvmNB1QG6uxAG0722/OnB1jzBhA09rIJNAAZ534TNPvHCLL/OfeYCT7zpwdK/8z1Kg3M9Y0CeAjR9tb8CgexBLf2JAKXBPr0RAMaBR/3BQE0AI39APsfARUE9QLm+oMFFf8a9sEC5v9k/14DrPScAE8Kt/YaAKL35glE+fsI8RXg7/AG8PexBLL/2/O8Bkjw9gzWAVT88Abr9jkGUwGdBbwGNPuiAZP+NAXH/ub6kghz/SQCjQdUBl7+ggA0APD3iPzBAvAGrPlZB8f+fv/rACT4CgKN+AYLqP00+woH9fNoADkBKgNp+/v+kgjQ7OEIOQHc/T4CL/XhDdvznQXwBsL9hwE59woCfv+iAQAAOvyXBHj5aAA5Bhr7sv9J+goCDwNe+acHqP1t8rwGggCY+hUE8AGN/Un6kgMPA5wASv9j+h8Gc/1k/zQAhwEPAwD2CgcAAI394Qi3++b6ogFEA9H2OQHcB5P+Ofdj+tcQp/gF/DkGSfoQ/qcCGgX7/gAFXvRoALcKVPzGA4P7eAOY/yQCYwnw9wUGY/qdBX7/zP/WAcz1HwZk/+sAUwHwAfH8sv+TDXP4L/8qA5j6nAAqA5wAovxTATT7vAFzAgAAEP5oALEEvAEAAC//iPw+AmT/APvWBusANPu8AUQDwQIA+37/FQRO9qIBXgNu9woCSv+8/KIBNAUqA5j6pwLm9VQG9QLb+GgFkvQlBzT7BQGyCT/4OQG8/F4DSv9E/sYD1vyiARX/Jf37A1n9JAJzAkT0KghYAk/7HwZoAF7+P/2sA1MBJf0aANEApwdP+20BSQRE+YMFBQbcB6z5rPkvCVP38AHrBS/1AACY/yQC6wCY/xD+JPgaBdz9+/6cAFn4BQFU/PABOvw+Aub/wfj2B7wBt/vWAVMB8fwKByX9aAAvBF75HwHrBX7/x/4aALwBtgAg/GgARP4f9woCYwRe/jQAiPwAAIj8TgDRANH7WAJz/WgAggBZ/fABqP3bAh8BRANzAm73Bgs0ACr5TgU//Zj/ZP8FBh8B+/6T/ub6VAbm+tEAvAay+mgFNABk/zr8ef7GA4P7VAZOAFn99v3H/rwGfv8FAdEAAAAfAa3+8AF+/20Bg/vH/kkJiPwFAUr/ogGCAGP6zAk0+7f7tgCi/IIAogGHAW78Jf2sA5j/Sv9OAK3+Kv4l/ZIDqP2t/sf+TgBJBI39P/1Z/Ur/AAAv/5j/5vrRABX/JAJzAsL9k/4//fABTgA0APb9Sv+NAocBvAHwAdEAwv2NAiQCFQT7A3P9Jf1K/xUEKv4kAl4DY/qdBSX9bQEVBF75NACN/YMF0QAV/04ASfq2AFT84APrBTT7nAA5AfABWf0V/3n+jf1zAocB2wKt/gv9RP5TAZIDbQEv/wv9cwJk/7z8vAGI/CX99v1+/9sCk/4aAAAA1gEAAOH+nAAl/QUBL//m/xX/RP77/tb8SQROAKIBOQGS+esAZP/r+3P9WAI5AT/9HwGCACr+Kv62AE4A0QDrAEr/0QC2AJP+vPx+/3MCEP71AtEAfv8aAI39GgBE/lMB0QCnAgUB8fwaAAAAmP9e/k4AJAKt/gUBOQGY/8f+sv8fAQUB0QDRAEr/GgAFAfv+fv+iAdEAwv0PA/UCzP+8AWT/sv8FAeH+5v+CAE4AFf/2/fABPgJk/2gAggCiAa3+Sv/m/+H+0QBK/wAAggBk/3n+5v/wARX/k/5OAF7+nACy/04AGgDC/TQAef7h/n7/4f7wAX7/fv+iAfb9AACHARoAfv+CAGgAaACY/04A5v+N/TkBOQE0AKIBhwEV/5j/6wCT/tz9OQG2AE4AFf9K/37/k/7m/wUB1gEAAC//GgA0AGgAZP+T/usA+/5oAKwDvAFoAOb/fv+t/jQAsv9K/+sA5v/M/+b/Kv7H/jQANADWAbYAFf/H/jQAk/4Q/pj/mP/rAOb/0QCiAeH+mP8V/+b/ZP8Q/oIAzP+CAMz/rf6y//v+zP8AAJj/aACT/rL/TgB+/9EAsv/rAB8Bfv8aAAAAAABOALYABQHM/9EAbQEaALYAaAAaAE4AtgAv/+H+GgAv/7L/aAA0AMf+zP8V/+H+fv/7/jQAzP9k//v+sv8AABX/mP/m/2gA5v8aADkBL/+y/9EATgCCAJwAmP/M/2gANAB+/+H+5v9K/5j/BQEaAGT/Sv9K//v+L/80AH7/mP9oAIIAaABoAE4A0QDrAGT/NABtARX/L//RAH7/sv/M/7L/GgCCAGT/rf40ALL/ZP9K/37/Ff+T/gAA5v+cADQAZP9K/8z/ZP/h/hoAsv8aAE4ANAAv//v+GgCy/wAAnACCAAAATgA5Aeb/zP8aABoAggDRAOsAsv8aAAAAFf8AADQAggA0ANEAaACY/04ASv8AALYAaAC2AAUBtgAAAE4ANABoAE4A0QDRAGgA0QBOALL/AAA0AOb/NABOADQANACy/5j/5v/h/n7/5v9+/4IAZP/M/wAAZP8AAH7/AADm/04AaADm/2gAfv9+/+b/Sv8aAJj/mP9OAMz/5v+y/37/zP9k/37/5v/m/+b/AABk/37/5v+Y/8z/TgDM//v+5v+Y/2T/ZP9+/7L/zP8aABoAsv8AAAAAmP9OAOb/AAA0AAAANAA0AJj/5v8AAOb/NADm/xoAmP/m/wAAsv9+/xoAaACy/4IA5v9k/wAAmP+Y/+b/mP8AABoA5v+Y/7L/zP+Y/wAA5v/m/wAAAABOAIIA5v80AGgAggAfAQUBHwFOAAAATgA0ALYAtgDRANEAaAAaAOb/ZP8AABoA5v9OAOb/sv9k/37/sv8v/8z/5v8aAGgAGgBOALL/5v8AAOb/ggAaAE4ANADm/2gAAABOAOb/5v+CABoAGgAaAAAA5v8AAOb/zP8AADQAGgAAABoA5v+y/wAA5v+Y/+b/AAAaAMz/GgDM/8z/mP9+/2T/fv/M/2T/NADm/2T/zP9+/0r/ZP+Y/5j/zP8AAOb/AACy/+b/fv+Y/04AzP/m/xoAmP8aAMz/mP8AAAAA5v80AIIAfv+Y/7L/Ff9k/7L/sv/m/8z/GgAAAGT/5v+Y/+b/5v8aAIIANABoABoANAAAAOb/GgBoAJwAnAAaAE4AAACY/xoAzP8aADQAAAA0ADQA5v+Y/7L/sv/M/xoAGgAAAAAAAAAAALL/5v/m/5j/NAA0ALL/AACy/0r/fv8v/37/fv9k/5j/L/9+/y//+/5+/2T/zP8AAMz/AAA0AAAAGgAaAJwATgC2AOsABQHrAGgA6wBoANEAtgCcAB8BnABOAGgAAADm/04AAABoAGgAAAAaAOb/zP+y/5j/zP/M/8z/AACy/2T/ZP9K/2T/mP+y/8z/AACy/37/zP9+/0r/ZP/M/7L/zP8aAAAA5v8aABoAzP80ABoAAAA0ABoANAA0ABoAaAA0AE4AnABoAIIAaABOAE4AGgAaAAAAGgAAABoANAAAAAAAAADm/wAAzP8AAOb/5v8aALL/mP+Y/5j/zP8AAAAA5v/M/8z/5v/m/8z/GgDm/8z/aAAAAOb/GgDm/wAAGgAaABoAGgAaABoANABoAMz/AAAaAOb/GgAAAAAAAAAAAAAA5v8aAMz/zP8aAOb/5v8aAOb/zP/m/+b/AACy/xoAzP/M/wAAsv+y/7L/5v8aADQAAAAAAAAAAAAAAOb/AAAAABoAAAAaABoA5v/M/7L/5v8AAOb/AADm/+b/AADM/wAA5v+y/wAA5v8AAOb/5v/m/8z/5v/m/wAAAAAAAAAAAAAAAE4AAAAAAGgAGgAAADQANAAAAAAANAAAABoAGgAaABoAGgAAAAAAGgAaADQATgA0AAAANAA0AAAAGgAAAOb/AAAAAOb/AADm/wAAzP+y/5j/ZP9+/2T/ZP9k/2T/ZP9K/0r/Sv9k/0r/ZP/M/5j/5v/M/5j/zP+y/+b/5v/m/wAAAADm/wAAzP/M/+b/5v9OABoAAAAAAAAAzP/m/wAAzP8AABoAAAAaADQAAAA0AGgANAAaAE4ATgAaAGgANABOAGgATgBOAGgAggBoAIIATgA0ADQAaAA0AE4AggA0AE4ANAAaAE4AGgAaAAAAGgAaAAAAAAAAAAAAAAAAAOb/5v8AAAAAAADm/+b/zP+y/wAA5v+Y/wAAmP+Y/7L/fv+Y/7L/sv/m/+b/5v8AAMz/AADM/8z/5v+y/xoAGgDm/wAAAADm/8z/AADm/+b/AAAAAMz/5v/m/+b/zP/m/wAA5v8AAMz/5v8aAOb/5v/m/8z/5v8AAOb/5v/M/8z/mP+Y/8z/sv/M/+b/sv+y/37/sv+y/2T/5v/m/7L/5v8AAOb/sv8AAMz/zP8AAAAAAAAAAAAAAAAAAAAAAAAAAAAAAAAAAAAA5v8AAOb/5v8AAAAAAAAAAAAAAADm/xoA5v/m/wAA5v/m/wAAAAAAAAAA5v/M/+b/5v+y/8z/zP/m/8z/zP/M/8z/AADm/+b/AAAAAAAAGgAaABoANAAaABoANAA0ABoATgBOAE4ANABOAIIAaACCAIIAggBoAGgAggBoALYAnACcAJwAnABoABoAaABOABoANAA0AAAAAAAaAAAAAADm/wAAAADm/wAAAAAAAOb/5v8AAAAAAAAAAOb/AAAAAAAAAAAAAAAAAADm/+b/5v8AAAAAAADm/+b/5v8AAOb/AAAAAOb/AAAAAOb/sv/M/+b/sv/m/+b/zP8AAOb/5v/m/+b/zP+Y/+b/fv+Y/+b/fv/M/7L/fv9+/37/sv+Y/7L/mP9+/7L/mP9+/7L/fv9k/8z/fv+Y/8z/mP+Y/5j/zP+y/8z/AAAAAAAAGgAAAAAAAAAaAAAANABOABoAaAA0ADQAggCCAIIAaACCAIIAggCcAIIATgCCAJwAaACCAE4AaAAaABoANAAaABoAGgAAAOb/AAAAAAAAzP8AAMz/zP/M/37/5v+y/5j/sv+y/+b/sv/M/+b/sv/m/8z/sv8AAAAAAAAAAAAAAADM/+b/5v/M/8z/AADm/+b/5v/M/8z/sv/M/5j/mP+Y/37/mP9k/7L/sv9+/5j/mP+Y/7L/mP/M/7L/zP/m/8z/5v/M/wAA5v/m/wAAAAAAAAAAAAAAAAAANAA0AAAANABOADQATgBOAGgAaAA0AIIAaABOAE4ATgBOAE4ATgA0ADQANAA0ABoAAAA0ABoANAA0ABoAGgAAABoAGgAAAAAAGgAaAAAANABOABoANABOAAAANABOAAAAAAAaADQANAA0AAAANAA0ADQAGgAaADQAAAAaABoAAAAAABoAGgAaAAAAGgDm/+b/AAAAAAAAAAAAALL/5v/M/8z/mP9+/5j/ZP9k/2T/ZP9k/37/mP9+/5j/fv+y/7L/sv/M/+b/5v+Y/+b/zP/M/wAA5v8AAOb/5v8AAOb/AADm/+b/5v/m/+b/zP/m/8z/5v/m/+b/5v/m/wAA5v8AAOb/zP/m/8z/sv/M/wAAsv+y/wAAzP/M/8z/zP+y/8z/5v+y/7L/zP/m/wAAAADm/+b/5v/M/7L/zP/m/wAA5v/m/wAAAAAaAAAAAAAAAAAAAADm/wAAAADm/+b/5v8AAOb/AAAAAAAANAA0ABoAGgA0AE4AGgA0ADQAGgBOADQAGgAaAAAAAAAaABoAGgAAAAAAAAAAAAAAAAAAAOb/5v8AAAAAAAAAAAAA5v/m/8z/sv/m/7L/fv+y/5j/mP+Y/5j/sv+y/7L/mP9+/5j/sv9+/0r/Ff8v/0r/Sv9k/37/fv+Y/+b/5v/m/+b/AADM/wAAGgAAABoATgA0ADQANABOAE4AaAA0AE4AaAA0AGgATgBoADQANABOABoANAAAABoAGgAAAAAAAAAAAAAAAADm/8z/5v/m/5j/ZP+Y/37/fv9k/37/sv+Y/7L/fv+Y/7L/mP/M/5j/mP/m/+b/zP/M/wAAAADm/wAAAAAaABoAGgAaADQANAAAAAAAAAAAADQAGgAAAAAAAAAAAAAAAAAAAAAAAAAAAOb/AAAAAAAA5v/M/8z/5v+y/7L/sv9+/5j/mP9k/5j/fv9k/5j/fv9+/37/mP9+/0r/fv9k/2T/fv9+/5j/mP9+/37/mP+y/37/mP+y/8z/zP/M/8z/zP8AAOb/zP8AAAAA5v8AAAAAAAAAAAAAAADm/+b/zP/m/7L/sv/m/7L/zP/M/8z/zP/m/+b/sv/M/8z/5v/M/5j/mP+y/8z/sv/M/+b/5v/m/+b/AAAAABoAAAAaAE4AaABoAIIAnACCAIIAtgDRALYA0QDrAOsABQEfAesA6wAFAesA0QDrANEAtgC2AIIAtgCcAJwAggCCAIIAaABoADQANAA0ABoAGgAAAAAAGgAAAAAAAAAAAAAAAAAAAAAAAAAAAAAAAAAAAAAAAAAAAAAAAAAAAAAAGgAAAAAAAAAAAAAA5v8AAOb/AADm/+b/5v/m/+b/5v/m/8z/zP+y/7L/zP/M/8z/5v/M/8z/5v/m/8z/AADm/+b/AAAAAAAAAAAaAAAAAAAAAAAAAAAAAAAAAAAaAAAAAAAAAOb/NAAaABoATgAaABoAGgAaABoAAAAaABoAGgA0ADQANABoAE4AaABOAE4AaABOAGgAaABOAGgANAA0ABoAGgBOABoAGgBOADQATgA0AE4ATgBOAGgATgBoAGgAaABoAIIAaABOAGgAaABoAGgAaAA0ADQATgA0ABoAGgAAAAAAGgAAAOb/AADm/8z/5v/m/7L/sv/M/8z/sv+y/37/mP9+/37/fv9k/5j/mP+Y/5j/sv+Y/7L/zP+y/8z/5v8AAAAAAAAAAAAAAAAaADQAGgAaABoAAAAaABoANAAaAAAANAAaADQANAAAABoAAAAAAAAA5v8AAAAAAAAAAAAAAADm/+b/zP+Y/7L/mP+Y/5j/mP+Y/37/ZP9K/2T/fv9K/0r/fv9k/2T/fv9+/37/Sv9K/2T/ZP9k/0r/ZP9+/2T/ZP9k/5j/fv9+/8z/sv+y/5j/fv+y/37/fv+y/5j/zP/m/8z/5v/m/+b/zP/M/+b/zP/m/wAAAAAAADQAGgAaABoANABOADQATgA0AGgAggBOAGgAaABoAGgAaABoAGgAnACCAGgAggBoAGgAaABOAE4ATgA0ADQANAAaABoAGgAaADQAGgAaABoAGgAaABoAGgAAAAAAAAAaAAAAAAAaAAAAGgAaAAAAAAAAAAAAAAAAABoAAAAAAOb/5v/M/7L/zP/M/7L/zP+y/7L/zP+y/8z/sv+Y/37/mP+y/5j/zP+y/7L/sv+y/8z/AAAAAAAAAAAAABoAGgA0AE4ANABoAGgAaABoAGgAnACCAIIAnAC2AOsABQEFAR8BHwEfAR8B6wAFAesA0QDRAOsA6wDrAAUB0QDRALYAtgC2AJwAtgDRAJwAtgC2AJwAnACCAIIAggBoAGgAaABoAE4AaABOADQATgA0ADQANAA0ABoAAADm/+b/AADm/+b/sv/M/+b/mP+y/37/ZP9K/2T/Sv9K/0r/L/9k/y//L/8V/y//L/8V/2T/ZP8v/xX/Ff/7/vv+Ff/7/hX/Ff/7/hX/L/9K/y//L/8v/0r/ZP9K/5j/fv9+/7L/sv/M/8z/AAAAAOb/5v/m/wAAAAAAAAAA5v8AAAAAAAAAAAAAAAAAAAAAAAAAAAAAAADm/+b/AAAAAAAAGgAaAAAAAAAAAAAAAAAAAAAAAADm/+b/5v/m/8z/zP/m/7L/sv+y/37/fv9k/0r/Ff/7/i//L/8v/xX/Ff8V/xX/Ff/7/vv+4f7h/i//Ff8V/0r/Sv9K/2T/Sv9k/37/fv9+/37/fv+Y/7L/mP/m/8z/5v8AAAAAAAAAAOb/AAAAAAAAAAAAABoATgA0ADQATgBOAE4ANAA0AGgATgA0AE4ATgA0AE4ANAAaABoAAAAAAAAAGgAAABoAAAAAAAAAAAAAAAAA5v/M/8z/AADM/+b/5v/M/8z/mP/M/5j/zP/m/7L/5v/M/8z/zP/m/+b/5v/m/7L/zP/M/+b/zP/M/+b/zP/m/8z/zP/M/5j/mP+Y/5j/mP+Y/7L/sv+Y/7L/sv+y/8z/zP/m/wAAAAAAAAAAAAAAAAAAAAAAADQANABOAGgATgBoAIIAggCCAIIAnACcALYAtgDRANEAnACCAIIAggCCAIIAaABoAE4AGgBOADQAGgAAAAAAAAAAAOb/zP/m/8z/zP/M/5j/zP9k/37/ZP8v/0r/Ff8V/+H++/77/vv++/6t/uH+4f7h/uH++/77/hX/L/8V/xX/Sv9k/37/mP+y/8z/sv/M/+b/5v8AAAAA5v/m/wAAAAAAAAAAAAAAAAAAGgAaAAAAGgAaABoAAAAaADQANAA0AE4ATgA0ADQANAA0ADQATgA0ABoAGgA0ABoAGgBOAGgAaACCAJwAnACCALYAtgCcALYAtgC2AOsA6wDrAAUB6wDrAAUBtgC2ANEAtgDRAJwAnACcAGgAaABOAE4ATgA0ADQAAAAAAAAA5v/M/7L/sv+Y/37/fv9+/37/ZP9+/0r/Sv9k/y//ZP8v/y//ZP9k/37/ZP9+/37/fv9+/37/sv+y/8z/5v/M/wAA5v/m/wAAAAAAAAAAGgAaABoAAAAaAAAAAAAAAAAAAAAAAOb/5v/m/7L/zP/M/7L/sv+y/7L/mP+y/5j/sv/M/7L/5v/M/+b/AAAAAAAAAAAAAOb/5v8AAAAAAAAAAAAA5v8AAOb/5v/m/+b/5v/m/wAAAADM/8z/zP/m/+b/zP8AAOb/5v8AAOb/AAAAAAAAAAAAAAAAAAAaABoAAAAaAAAANAAaABoAGgAaADQATgA0ADQAGgAAABoAAAAaAAAAAAAAAAAAAAAAAAAA5v/m/+b/5v8AAAAAAADm/+b/5v/m/8z/5v/m/+b/5v/m/wAAAAAAAOb/AAAAAAAAAAAAAAAAAAAAAAAAAAAAAAAAAAAAABoAAAAAAAAAAAAAAAAAAAAAAAAAAAAAAAAAAADM/7L/sv+y/5j/mP9+/2T/ZP9k/0r/Sv9K/y//ZP9K/xX/L/8v/y//Sv9k/2T/fv+Y/5j/zP/M/8z/zP/m/wAAAAAAAAAAAAAaAE4AaABoAGgAggCcAJwAtgDRANEA6wDRANEA0QDRAOsA6wDRALYAtgDrANEAtgCcALYAggBoAGgAaABOABoAGgAaAAAAAADM/wAA5v/m/+b/zP/M/7L/zP/M/8z/5v/M/8z/zP/m/8z/sv+y/7L/5v8AAOb/5v8AAOb/zP/M/w==\" type=\"audio/wav\" />\n",
              "                    Your browser does not support the audio element.\n",
              "                </audio>\n",
              "              "
            ]
          },
          "metadata": {}
        }
      ],
      "source": [
        "x = tf.io.read_file(str(x))\n",
        "x, sample_rate = tf.audio.decode_wav(x, desired_channels=1, desired_samples=16000,)\n",
        "x = tf.squeeze(x, axis=-1)\n",
        "waveform = x\n",
        "x = get_spectrogram(x)\n",
        "x = x[tf.newaxis,...]\n",
        "\n",
        "prediction = model(x)\n",
        "#x_labels = ['no', 'yes', 'down', 'go', 'left', 'up', 'right', 'stop']\n",
        "x_labels = ['down', 'go', 'left', 'no', 'right', 'stop', 'up', 'yes']\n",
        "plt.bar(x_labels, tf.nn.softmax(prediction[0]))\n",
        "plt.title('Prediction')\n",
        "plt.show()\n",
        "\n",
        "display.display(display.Audio(waveform, rate=16000))"
      ]
    }
  ],
  "metadata": {
    "accelerator": "GPU",
    "colab": {
      "provenance": [],
      "include_colab_link": true
    },
    "kernelspec": {
      "display_name": "Python 3",
      "name": "python3"
    },
    "gpuClass": "standard"
  },
  "nbformat": 4,
  "nbformat_minor": 0
}